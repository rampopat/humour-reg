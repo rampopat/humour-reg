{
  "nbformat": 4,
  "nbformat_minor": 0,
  "metadata": {
    "kernelspec": {
      "display_name": "Python 3",
      "language": "python",
      "name": "python3"
    },
    "language_info": {
      "codemirror_mode": {
        "name": "ipython",
        "version": 3
      },
      "file_extension": ".py",
      "mimetype": "text/x-python",
      "name": "python",
      "nbconvert_exporter": "python",
      "pygments_lexer": "ipython3",
      "version": "3.7.1"
    },
    "colab": {
      "name": "task_1_approach_2.ipynb",
      "provenance": [],
      "collapsed_sections": [],
      "toc_visible": true
    },
    "accelerator": "GPU"
  },
  "cells": [
    {
      "cell_type": "markdown",
      "metadata": {
        "id": "8ZBn34GbckDT"
      },
      "source": [
        "### Coursework coding instructions (please also see full coursework spec)\n",
        "\n",
        "Please choose if you want to do either Task 1 or Task 2. You should write your report about one task only.\n",
        "\n",
        "For the task you choose you will need to do two approaches:\n",
        "  - Approach 1, which can use use pre-trained embeddings / models\n",
        "  - Approach 2, which should not use any pre-trained embeddings or models\n",
        "We should be able to run both approaches from the same colab file\n",
        "\n",
        "#### Running your code:\n",
        "  - Your models should run automatically when running your colab file without further intervention\n",
        "  - For each task you should automatically output the performance of both models\n",
        "  - Your code should automatically download any libraries required\n",
        "\n",
        "#### Structure of your code:\n",
        "  - You are expected to use the 'train', 'eval' and 'model_performance' functions, although you may edit these as required\n",
        "  - Otherwise there are no restrictions on what you can do in your code\n",
        "\n",
        "#### Documentation:\n",
        "  - You are expected to produce a .README file summarising how you have approached both tasks\n",
        "\n",
        "#### Reproducibility:\n",
        "  - Your .README file should explain how to replicate the different experiments mentioned in your report\n",
        "\n",
        "Good luck! We are really looking forward to seeing your reports and your model code!"
      ]
    },
    {
      "cell_type": "markdown",
      "metadata": {
        "id": "-m8P4iIPLTl1"
      },
      "source": [
        "# **README**\n",
        "\n",
        "## **Overview**\n",
        "\n",
        "For this coursework, we worked on the humour regression task (task 1). This notebook contains code for running our data analysis and experiments for Approach 2. The experiments for Approach 1 can be found in the accompanying colab notebook. The main sections of interest are \"Data Analysis\", \"Approach 2\" and \"Comparison of approaches\".\n",
        "\n",
        "In general, the whole notebook can be run sequentially to reproduce the data analysis results and experiments mentioned in our report. The exception to this are the results for experimenting with different features individually in HumourNet and without FunLines. The notebook will train and evaluate HumourNet with our best performing combination of features if run as is, but the experiments for different features can be run by changing some flags. See the HumourNet section of the README for more details.\n",
        "\n",
        "## **Data Analysis**\n",
        "\n",
        "In this section, we investigated the Humicroedit dataset, investigating basic features such as the headline length by number of characters and words, the number of words replaced in each headline and the vocab size. We also looked at the relative edit position and statistics for the occurrences of 'Trump' and related mentions. The patterns we observed in this section helped to inform our approaches and the hand-crafted features we used in our approach 2.\n",
        "\n",
        "##### **Reproducing data analysis results from report:**\n",
        "Please run the cells in under the 'Data Analysis' section.\n",
        "\n",
        "## **Approach 1**\n",
        "See other Colab Notebook\n",
        "\n",
        "## **Approach 2**\n",
        "\n",
        "### **Initial TF-IDF Models**\n",
        "Our initial approach was based off the second baseline provided, which used TF-IDF with linear regression. However, we noticed that it only made use of the edit word, so we extended the input to include the full headline before edit and full headline after edit, and passed this into other regression models, namely a Support Vector Machine with RBF kernel and Random Forest model.\n",
        "\n",
        "##### **Reproducing experiments mentioned in report**\n",
        "The original baseline can be found under `Baseline Models (Provided) > TF-IDF with Linear Regression`. Code for extending the input and our TF-IDF models can be found under `Approach 2 > TF-IDF with Other Regression Models`, with the cells for SVM and Random Forest clearly marked. To reproduce the experiments mentioned, run all cells up to and including the relevant cell in the notebook.\n",
        "\n",
        "### **HumourNet**\n",
        "This section contains the preprocessing and feature extraction functions we used, as well as the code for our main non-pretrained approach, HumourNet, and its variants.\n",
        "\n",
        "Our preprocessing was based on what we observed in the dataset: for example, we observed some headlines were fully capitalised, and some had excessive whitespace, especially around punctuation. We performed lowercasing of all input, removed excessive whitespace, removed punctuation, and performed stop word removal. We also replaced variations of 'trump' such as 'president trump' and 'donald trump' in the replaced section with just 'trump' and concatenated the replaced section to be a single word.\n",
        "\n",
        "We extracted features for i) mentions of trump ii) mentions of trump and hair iii) relative edit position iv) headline length v) cosine edit distance. We experimented with using each feature individually and with different combinations. Our final model uses features i), ii) and iii).\n",
        "\n",
        "Our main approach, HumourNet, is designed to incorporate handcrafted features and takes as input the original and edit word, as well as our handcrafted features. It consists of 3 components:\n",
        "\n",
        "1) Feature Encoder: Multi-layer FFNN processing our handcrafted features from the headline.\n",
        "\n",
        "2) Word Encoder: Siamese network learning similarity between edit and original word.\n",
        "\n",
        "3) Combining Neural Network: Multi-layer FFNN which takes concatenation of output from feature encoder and word encoder and outputs predicted humour grade.\n",
        "\n",
        "#### **Reproducing experiments mentioned in report**\n",
        "You can run our HumourNet experiments under the HumourNet section of this notebook. Make sure the previous sections of the notebook have been run. We have created the `features_map` and `present_components` maps so that you can run different experiments by setting the flags there. You can turn features on and off, and test the model with or without the feature and word encoder. In the same cell, you can also set `use_funlines` to adjust whether the model is trained with FunLines data. The configuration we have set in this notebook is the one used for our final, best performing model. \n",
        "The HumourNet variants (+ GloVe and + Byte Pair Encoding) can be run under their relevant subsections in the HumourNetwork section.\n"
      ]
    },
    {
      "cell_type": "markdown",
      "metadata": {
        "id": "aTBkFyarLbyx"
      },
      "source": [
        "# Downloads & Setup"
      ]
    },
    {
      "cell_type": "code",
      "metadata": {
        "colab": {
          "base_uri": "https://localhost:8080/"
        },
        "id": "wwOsNOweckDZ",
        "outputId": "f7ec619d-940d-4e41-ab08-519419767fe0"
      },
      "source": [
        "# You will need to download any word embeddings required for your code, e.g.:\n",
        "\n",
        "!wget http://nlp.stanford.edu/data/glove.6B.zip\n",
        "!unzip glove.6B.zip\n",
        "\n",
        "# For any packages that Colab does not provide auotmatically you will also need to install these below, e.g.:\n",
        "\n",
        "#! pip install torch"
      ],
      "execution_count": null,
      "outputs": [
        {
          "output_type": "stream",
          "text": [
            "--2021-03-02 17:10:28--  http://nlp.stanford.edu/data/glove.6B.zip\n",
            "Resolving nlp.stanford.edu (nlp.stanford.edu)... 171.64.67.140\n",
            "Connecting to nlp.stanford.edu (nlp.stanford.edu)|171.64.67.140|:80... connected.\n",
            "HTTP request sent, awaiting response... 302 Found\n",
            "Location: https://nlp.stanford.edu/data/glove.6B.zip [following]\n",
            "--2021-03-02 17:10:29--  https://nlp.stanford.edu/data/glove.6B.zip\n",
            "Connecting to nlp.stanford.edu (nlp.stanford.edu)|171.64.67.140|:443... connected.\n",
            "HTTP request sent, awaiting response... 301 Moved Permanently\n",
            "Location: http://downloads.cs.stanford.edu/nlp/data/glove.6B.zip [following]\n",
            "--2021-03-02 17:10:29--  http://downloads.cs.stanford.edu/nlp/data/glove.6B.zip\n",
            "Resolving downloads.cs.stanford.edu (downloads.cs.stanford.edu)... 171.64.64.22\n",
            "Connecting to downloads.cs.stanford.edu (downloads.cs.stanford.edu)|171.64.64.22|:80... connected.\n",
            "HTTP request sent, awaiting response... 200 OK\n",
            "Length: 862182613 (822M) [application/zip]\n",
            "Saving to: ‘glove.6B.zip’\n",
            "\n",
            "glove.6B.zip        100%[===================>] 822.24M  2.02MB/s    in 6m 55s  \n",
            "\n",
            "2021-03-02 17:17:24 (1.98 MB/s) - ‘glove.6B.zip’ saved [862182613/862182613]\n",
            "\n",
            "Archive:  glove.6B.zip\n",
            "  inflating: glove.6B.50d.txt        \n",
            "  inflating: glove.6B.100d.txt       \n",
            "  inflating: glove.6B.200d.txt       \n",
            "  inflating: glove.6B.300d.txt       \n"
          ],
          "name": "stdout"
        }
      ]
    },
    {
      "cell_type": "code",
      "metadata": {
        "id": "f0NxfVu8ckDZ"
      },
      "source": [
        "# Imports\n",
        "\n",
        "import re\n",
        "import torch\n",
        "import torch.nn as nn\n",
        "import pandas as pd\n",
        "import numpy as np\n",
        "import matplotlib.pyplot as plt\n",
        "from sklearn.feature_extraction.text import CountVectorizer\n",
        "from torch.utils.data import Dataset, random_split\n",
        "from sklearn.feature_extraction.text import TfidfTransformer\n",
        "from sklearn.model_selection import train_test_split\n",
        "from sklearn.linear_model import LinearRegression\n",
        "from sklearn.svm import SVR\n",
        "from sklearn.ensemble import RandomForestRegressor\n",
        "from collections import Counter, defaultdict\n",
        "from scipy.sparse import hstack\n",
        "import seaborn as sns\n",
        "import matplotlib.pyplot as plt\n",
        "import codecs\n",
        "import string"
      ],
      "execution_count": null,
      "outputs": []
    },
    {
      "cell_type": "code",
      "metadata": {
        "id": "af4oUNtAckDa"
      },
      "source": [
        "# Setting random seed and device\n",
        "SEED = 1\n",
        "\n",
        "torch.manual_seed(SEED)\n",
        "torch.cuda.manual_seed(SEED)\n",
        "torch.backends.cudnn.deterministic = True\n",
        "\n",
        "use_cuda = torch.cuda.is_available()\n",
        "device = torch.device(\"cuda:0\" if use_cuda else \"cpu\")"
      ],
      "execution_count": null,
      "outputs": []
    },
    {
      "cell_type": "markdown",
      "metadata": {
        "id": "_Dx18qWTLm13"
      },
      "source": [
        "# Data"
      ]
    },
    {
      "cell_type": "markdown",
      "metadata": {
        "id": "50oWcPIaLtvk"
      },
      "source": [
        "## Loading Data"
      ]
    },
    {
      "cell_type": "code",
      "metadata": {
        "colab": {
          "base_uri": "https://localhost:8080/"
        },
        "id": "qEzQfdh0Zum0",
        "outputId": "fbae59f1-8c66-40f3-8650-942c8bde47f3"
      },
      "source": [
        "!git clone https://github.com/rampopat/humour-reg\n",
        "print('Contents of git repo are the following files:')\n",
        "!ls humour-reg\n",
        "PATH_TO_DATA = 'humour-reg/'"
      ],
      "execution_count": null,
      "outputs": [
        {
          "output_type": "stream",
          "text": [
            "Cloning into 'humour-reg'...\n",
            "remote: Enumerating objects: 22, done.\u001b[K\n",
            "remote: Counting objects: 100% (22/22), done.\u001b[K\n",
            "remote: Compressing objects: 100% (21/21), done.\u001b[K\n",
            "remote: Total 22 (delta 5), reused 5 (delta 0), pack-reused 0\u001b[K\n",
            "Unpacking objects: 100% (22/22), done.\n",
            "Contents of git repo are the following files:\n",
            "competition.png  README.md\t       test.csv   train_funlines.csv\n",
            "dev.csv\t\t task-1-humournet.csv  train.csv\n"
          ],
          "name": "stdout"
        }
      ]
    },
    {
      "cell_type": "code",
      "metadata": {
        "id": "ITksotULckDa"
      },
      "source": [
        "# Load data\n",
        "train_df = pd.read_csv(PATH_TO_DATA + 'train.csv')\n",
        "train_funlines_df = pd.read_csv(PATH_TO_DATA + 'train_funlines.csv')\n",
        "val_df = pd.read_csv(PATH_TO_DATA + 'dev.csv')\n",
        "test_df = pd.read_csv(PATH_TO_DATA + 'test.csv')\n",
        "all_df = pd.concat([train_df, val_df, test_df], ignore_index=True)"
      ],
      "execution_count": null,
      "outputs": []
    },
    {
      "cell_type": "code",
      "metadata": {
        "id": "Pc5hPTwhn27c",
        "colab": {
          "base_uri": "https://localhost:8080/"
        },
        "outputId": "986f57ba-6c1c-4633-9c3d-65e7ce91b686"
      },
      "source": [
        "print('Dataset sizes')\n",
        "print(len(train_df), len(val_df), len(test_df), len(all_df))"
      ],
      "execution_count": null,
      "outputs": [
        {
          "output_type": "stream",
          "text": [
            "Dataset sizes\n",
            "9652 2419 3024 15095\n"
          ],
          "name": "stdout"
        }
      ]
    },
    {
      "cell_type": "markdown",
      "metadata": {
        "id": "HPrV0qjjL3xC"
      },
      "source": [
        "## Data Analysis"
      ]
    },
    {
      "cell_type": "markdown",
      "metadata": {
        "id": "LydfdJ3_kwiL"
      },
      "source": [
        "### Headline Length"
      ]
    },
    {
      "cell_type": "markdown",
      "metadata": {
        "id": "SbiFH82Bu8Wh"
      },
      "source": [
        "#### By number of characters"
      ]
    },
    {
      "cell_type": "markdown",
      "metadata": {
        "id": "TnmrQr4YoAsi"
      },
      "source": [
        "Distribution of headline lengths"
      ]
    },
    {
      "cell_type": "code",
      "metadata": {
        "id": "DQZHVZ5AoCgj",
        "colab": {
          "base_uri": "https://localhost:8080/",
          "height": 280
        },
        "outputId": "5cf35360-2dc0-4b4b-c372-9ad33d16a4ff"
      },
      "source": [
        "all_df['original'].str.len().plot.hist()\n",
        "plt.title(\"Headline length (# chars) distribution\")\n",
        "plt.show()"
      ],
      "execution_count": null,
      "outputs": [
        {
          "output_type": "display_data",
          "data": {
            "image/png": "[encoded data removed]",
            "text/plain": [
              "<Figure size 432x288 with 1 Axes>"
            ]
          },
          "metadata": {
            "tags": [],
            "needs_background": "light"
          }
        }
      ]
    },
    {
      "cell_type": "markdown",
      "metadata": {
        "id": "QkjDXQxvoNCV"
      },
      "source": [
        "Max headline length"
      ]
    },
    {
      "cell_type": "code",
      "metadata": {
        "id": "6CfffTsUoMRn",
        "colab": {
          "base_uri": "https://localhost:8080/"
        },
        "outputId": "67829e01-0360-4cbd-8736-e91ab9a268a6"
      },
      "source": [
        "max_headline_len = all_df['original'].str.len().max()\n",
        "print('Max headline length is ' + str(max_headline_len))"
      ],
      "execution_count": null,
      "outputs": [
        {
          "output_type": "stream",
          "text": [
            "Max headline length is 147\n"
          ],
          "name": "stdout"
        }
      ]
    },
    {
      "cell_type": "markdown",
      "metadata": {
        "id": "88fQUCYovHrm"
      },
      "source": [
        "#### By number of words"
      ]
    },
    {
      "cell_type": "markdown",
      "metadata": {
        "id": "7h4BofT9vMNs"
      },
      "source": [
        "Distribution of headline lengths (by # words)"
      ]
    },
    {
      "cell_type": "code",
      "metadata": {
        "colab": {
          "base_uri": "https://localhost:8080/",
          "height": 417
        },
        "id": "HKsLeYIZufZo",
        "outputId": "764a55c9-8164-4c99-c67d-75c047d4cfcb"
      },
      "source": [
        "train_headline_word_lens = [len(headline.split(\" \")) for headline in train_df['original'].values]\n",
        "val_headline_word_lens = [len(headline.split(\" \")) for headline in val_df['original'].values]\n",
        "test_headline_word_lens = [len(headline.split(\" \")) for headline in test_df['original'].values]\n",
        "fig, axs = plt.subplots(1, 3, figsize=(28, 6))\n",
        "axs[0].hist(train_headline_word_lens)\n",
        "axs[0].title.set_text('Train')\n",
        "axs[1].hist(val_headline_word_lens)\n",
        "axs[1].title.set_text('Validation')\n",
        "axs[2].hist(test_headline_word_lens)\n",
        "axs[2].title.set_text('Test')\n",
        "plt.suptitle(\"Headline length (# words) distribution\")\n",
        "plt.show()"
      ],
      "execution_count": null,
      "outputs": [
        {
          "output_type": "display_data",
          "data": {
            "image/png": "[encoded data removed]",
            "text/plain": [
              "<Figure size 2016x432 with 3 Axes>"
            ]
          },
          "metadata": {
            "tags": [],
            "needs_background": "light"
          }
        }
      ]
    },
    {
      "cell_type": "markdown",
      "metadata": {
        "id": "cScmKp_svQBD"
      },
      "source": [
        "Min & max headline lengths (by # words)\n"
      ]
    },
    {
      "cell_type": "code",
      "metadata": {
        "id": "kndOU7hEvWT9",
        "colab": {
          "base_uri": "https://localhost:8080/"
        },
        "outputId": "7ab4b756-d758-4e60-e7a9-b45bbdd451d7"
      },
      "source": [
        "print(\"Max headline length: %d\" % all_df['original'].str.split().apply(len).max())\n",
        "print(\"Min headline length: %d\" % all_df['original'].str.split().apply(len).min())\n",
        "print(\"Mean headline length: %f\" % all_df['original'].str.split().apply(len).mean())"
      ],
      "execution_count": null,
      "outputs": [
        {
          "output_type": "stream",
          "text": [
            "Max headline length: 27\n",
            "Min headline length: 4\n",
            "Mean headline length: 12.316131\n"
          ],
          "name": "stdout"
        }
      ]
    },
    {
      "cell_type": "markdown",
      "metadata": {
        "id": "RJ-7LhKFuzdA"
      },
      "source": [
        "Relationship between headline length & funniness"
      ]
    },
    {
      "cell_type": "code",
      "metadata": {
        "id": "MpHBTRgPmJJs",
        "colab": {
          "base_uri": "https://localhost:8080/",
          "height": 280
        },
        "outputId": "5751770f-8566-46f8-b422-45e789d089e0"
      },
      "source": [
        "def plot_len_vs_funniness(df):\n",
        "  fig, ax1 = plt.subplots()\n",
        "\n",
        "  color = 'tab:red'\n",
        "  ax1.set_xlabel('Sentence length (# words)')\n",
        "  ax1.set_ylabel('Mean Funniness Grade', color=color)\n",
        "  grades = df.groupby(df.original.str.split().apply(len))['meanGrade'].mean()\n",
        "  grades = {len: grades[len] for len in range(4, 21)}\n",
        "  ax1.plot(list(grades.keys()), list(grades.values()), color=color, marker='o')\n",
        "  ax1.tick_params(axis='y', labelcolor=color)\n",
        "\n",
        "  ax2 = ax1.twinx()  \n",
        "  color = 'tab:blue'\n",
        "  ax2.set_ylabel('Frequency', color=color)\n",
        "  freqs = df['original'].groupby(df['original'].str.split().apply(len)).count()\n",
        "  freqs = {len: freqs[len] for len in range(4, 21)}\n",
        "  ax2.plot(list(freqs.keys()), list(freqs.values()), color=color, marker='o')\n",
        "  ax2.tick_params(axis='y', labelcolor=color)\n",
        "  plt.show()\n",
        "\n",
        "plot_len_vs_funniness(all_df)"
      ],
      "execution_count": null,
      "outputs": [
        {
          "output_type": "display_data",
          "data": {
            "image/png": "[encoded data removed]",
            "text/plain": [
              "<Figure size 432x288 with 2 Axes>"
            ]
          },
          "metadata": {
            "tags": [],
            "needs_background": "light"
          }
        }
      ]
    },
    {
      "cell_type": "markdown",
      "metadata": {
        "id": "XdD2AJYptc6O"
      },
      "source": [
        "### Replaced word counts"
      ]
    },
    {
      "cell_type": "code",
      "metadata": {
        "colab": {
          "base_uri": "https://localhost:8080/"
        },
        "id": "hoI0adn936tR",
        "outputId": "4f430c12-53d0-4c93-c522-e2baf31193a7"
      },
      "source": [
        "counts = dict([(1, 0), (2, 0), (3, 0)])\n",
        "\n",
        "for sentence in train_df['original']:\n",
        "    tokenized_sentence = []\n",
        "    replaced_words = re.findall(\"<(.*)/>\", sentence)\n",
        "    if len(replaced_words) > 0:\n",
        "        replaced_word = replaced_words[0]\n",
        "        split = replaced_word.split(' ')\n",
        "        counts[len(split)] += 1\n",
        "\n",
        "for c in counts.keys():\n",
        "  print(\"Percentage of replaced words being a %d words: %.3f\" % (c, 100 * counts[c] / len(train_df)))"
      ],
      "execution_count": null,
      "outputs": [
        {
          "output_type": "stream",
          "text": [
            "Percentage of replaced words being a 1 words: 94.851\n",
            "Percentage of replaced words being a 2 words: 4.921\n",
            "Percentage of replaced words being a 3 words: 0.228\n"
          ],
          "name": "stdout"
        }
      ]
    },
    {
      "cell_type": "markdown",
      "metadata": {
        "id": "h_FjRH2g_Vzy"
      },
      "source": [
        "### Vocab size"
      ]
    },
    {
      "cell_type": "code",
      "metadata": {
        "colab": {
          "base_uri": "https://localhost:8080/"
        },
        "id": "8bw7SVOP_aTH",
        "outputId": "7b9d40ce-bf74-472b-8c01-7dc244b1301f"
      },
      "source": [
        "def get_vocab(df):\r\n",
        "  vocab = set()\r\n",
        "  for headline in pd.concat([df['original'], df['edit']]):\r\n",
        "    vocab.update(headline.split())\r\n",
        "  return vocab\r\n",
        "\r\n",
        "train_vocab = get_vocab(train_df)\r\n",
        "val_vocab = get_vocab(val_df)\r\n",
        "test_vocab = get_vocab(test_df)\r\n",
        "\r\n",
        "print(\"Number of unique words in training set: %d\" % len(train_vocab))\r\n",
        "print(\"Number of unique words in validation set: %d\" % len(val_vocab))\r\n",
        "print(\"Number of unique words in test set: %d\" % len(test_vocab))\r\n",
        "print(\"Number of words occurring in validation set not seen in training set: %d\" % len(val_vocab.difference(train_vocab)))\r\n",
        "print(\"Number of words occurring in test set not seen in training set: %d\" % len(test_vocab.difference(train_vocab)))"
      ],
      "execution_count": null,
      "outputs": [
        {
          "output_type": "stream",
          "text": [
            "Number of unique words in training set: 16801\n",
            "Number of unique words in validation set: 6665\n",
            "Number of unique words in test set: 7860\n",
            "Number of words occurring in validation set not seen in training set: 2466\n",
            "Number of words occurring in test set not seen in training set: 2986\n"
          ],
          "name": "stdout"
        }
      ]
    },
    {
      "cell_type": "code",
      "metadata": {
        "colab": {
          "base_uri": "https://localhost:8080/"
        },
        "id": "0nNjwPWmEvxQ",
        "outputId": "b603fdd7-5606-4541-9c6a-25f640bc833a"
      },
      "source": [
        "def get_vocab(df):\r\n",
        "  vocab = set()\r\n",
        "  vocab.update(df['original'].apply(lambda x: re.findall(\"<(.*)/>\", x)[0]))\r\n",
        "  vocab.update(df['edit'])\r\n",
        "  return vocab\r\n",
        "\r\n",
        "train_vocab = get_vocab(train_df)\r\n",
        "val_vocab = get_vocab(val_df)\r\n",
        "test_vocab = get_vocab(test_df)\r\n",
        "\r\n",
        "print(\"Number of unique replaced/edit words in training set: %d\" % len(train_vocab))\r\n",
        "print(\"Number of unique replaced/edit words in validation set: %d\" % len(val_vocab))\r\n",
        "print(\"Number of unique replaced/edit words in test set: %d\" % len(test_vocab))\r\n",
        "print(\"Number of words occurring in validation set not seen in training set: %d\" % len(val_vocab.difference(train_vocab)))\r\n",
        "print(\"Number of words occurring in test set not seen in training set: %d\" % len(test_vocab.difference(train_vocab)))"
      ],
      "execution_count": null,
      "outputs": [
        {
          "output_type": "stream",
          "text": [
            "Number of unique replaced/edit words in training set: 7897\n",
            "Number of unique replaced/edit words in validation set: 2940\n",
            "Number of unique replaced/edit words in test set: 3505\n",
            "Number of words occurring in validation set not seen in training set: 1286\n",
            "Number of words occurring in test set not seen in training set: 1533\n"
          ],
          "name": "stdout"
        }
      ]
    },
    {
      "cell_type": "markdown",
      "metadata": {
        "id": "cm4pAf1h0Aqz"
      },
      "source": [
        "### Relative Edit Position\n",
        "Values have been normalised according to sentence length"
      ]
    },
    {
      "cell_type": "code",
      "metadata": {
        "colab": {
          "base_uri": "https://localhost:8080/",
          "height": 280
        },
        "id": "UIyGfntr0RwR",
        "outputId": "73aa3444-07c5-4dca-b489-5fadeccf1a89"
      },
      "source": [
        "def get_edit_pos_rounded(split_headline):\n",
        "    for i, word in enumerate(split_headline):\n",
        "      if word.startswith(\"<\"):\n",
        "        return round(i / (len(split_headline) - 1), 1)\n",
        "\n",
        "def plot_edit_pos_vs_funniness(df):\n",
        "  fig, ax1 = plt.subplots()\n",
        "\n",
        "  color = 'tab:red'\n",
        "  ax1.set_xlabel('Relative edit position (normalised)')\n",
        "  ax1.set_ylabel('Mean Funniness Grade', color=color)\n",
        "  grades = df.groupby(df.original.str.split().apply(get_edit_pos_rounded))['meanGrade'].mean()\n",
        "  ax1.plot(grades.keys(), grades.values, color=color, marker='o')\n",
        "  ax1.tick_params(axis='y', labelcolor=color)\n",
        "\n",
        "  ax2 = ax1.twinx()  \n",
        "  color = 'tab:blue'\n",
        "  ax2.set_ylabel('Frequency', color=color)\n",
        "  freqs = df['original'].groupby(df.original.str.split().apply(get_edit_pos_rounded)).count()\n",
        "  ax2.plot(freqs.keys(), freqs.values, color=color, marker='o')\n",
        "  ax2.tick_params(axis='y', labelcolor=color)\n",
        "  plt.show()\n",
        "\n",
        "plot_edit_pos_vs_funniness(all_df)"
      ],
      "execution_count": null,
      "outputs": [
        {
          "output_type": "display_data",
          "data": {
            "image/png": "[encoded data removed]",
            "text/plain": [
              "<Figure size 432x288 with 2 Axes>"
            ]
          },
          "metadata": {
            "tags": [],
            "needs_background": "light"
          }
        }
      ]
    },
    {
      "cell_type": "markdown",
      "metadata": {
        "id": "J8PmINQoktpw"
      },
      "source": [
        "### Trump Word Statistics"
      ]
    },
    {
      "cell_type": "code",
      "metadata": {
        "colab": {
          "base_uri": "https://localhost:8080/"
        },
        "id": "QlifgQI24C3z",
        "outputId": "19d824dc-12fc-4138-f019-efb005a25af2"
      },
      "source": [
        "num_trump_mentions = train_df['original'].str.contains('Trump').sum()\n",
        "percentage_trump = 100 * num_trump_mentions / len(train_df)\n",
        "print(\"Percentage of rows containing trump: %.2f\" % percentage_trump)\n",
        "\n",
        "trump_headlines = train_df[train_df['original'].str.contains('trump', flags=re.IGNORECASE)]\n",
        "trump_edits = train_df[train_df['edit'].str.contains('trump', flags=re.IGNORECASE)]\n",
        "trump_rows = pd.concat([trump_headlines, trump_edits], axis=0)\n",
        "trump_rows_funny = trump_rows[trump_rows['meanGrade'] > 2.0]\n",
        "print(\"Percentage of trump rows being very funny: %.2f\" % (100 * len(trump_rows_funny) / len(trump_rows)))\n",
        "\n",
        "trump_hair_rows = trump_rows[trump_rows['edit'].str.contains('hair', flags=re.IGNORECASE)]\n",
        "trump_hair_rows_funny = trump_hair_rows[trump_hair_rows['meanGrade'] > 2.0]\n",
        "print(\"Percentage of trump and hair rows being very funny: %.2f\" % (100 * len(trump_hair_rows_funny) / len(trump_hair_rows)))\n"
      ],
      "execution_count": null,
      "outputs": [
        {
          "output_type": "stream",
          "text": [
            "Percentage of rows containing trump: 38.81\n",
            "Percentage of trump rows being very funny: 4.81\n",
            "Percentage of trump and hair rows being very funny: 28.57\n"
          ],
          "name": "stdout"
        }
      ]
    },
    {
      "cell_type": "markdown",
      "metadata": {
        "id": "OBzHYPkxMUuG"
      },
      "source": [
        "# Helper Functions"
      ]
    },
    {
      "cell_type": "code",
      "metadata": {
        "id": "-Jcg-C-7ckDa"
      },
      "source": [
        "# Number of epochs\n",
        "epochs = 10\n",
        "\n",
        "# Proportion of training data for train compared to dev\n",
        "train_proportion = 0.8"
      ],
      "execution_count": null,
      "outputs": []
    },
    {
      "cell_type": "code",
      "metadata": {
        "id": "KgZCcRbrckDa"
      },
      "source": [
        "# We define our training loop\n",
        "def train(train_iter, dev_iter, model, number_epoch, custom_input=False):\n",
        "    \"\"\"\n",
        "    Training loop for the model, which calls on eval to evaluate after each epoch\n",
        "    \"\"\"\n",
        "\n",
        "    \n",
        "    print(\"Training model.\")\n",
        "\n",
        "    for epoch in range(1, number_epoch+1):\n",
        "\n",
        "        model.train()\n",
        "        epoch_loss = 0\n",
        "        epoch_sse = 0\n",
        "        no_observations = 0  # Observations used for training so far\n",
        "\n",
        "        for batch in train_iter:\n",
        "\n",
        "            if custom_input:\n",
        "                feature, orig_seq, edit_seq, target = batch\n",
        "                feature, orig_seq, edit_seq, target = feature.to(device), orig_seq.to(device), edit_seq.to(device), target.to(device)\n",
        "            else:\n",
        "                feature, target = batch\n",
        "                feature, target = feature.to(device), target.to(device)\n",
        "\n",
        "            # for RNN:\n",
        "            model.batch_size = target.shape[0]\n",
        "            no_observations = no_observations + target.shape[0]\n",
        "            model.hidden = model.init_hidden()\n",
        "\n",
        "            if custom_input:\n",
        "                predictions = model(feature, orig_seq, edit_seq).squeeze(1)\n",
        "            else:\n",
        "                predictions = model(feature).squeeze(1)\n",
        "\n",
        "            optimizer.zero_grad()\n",
        "\n",
        "            loss = loss_fn(predictions, target)\n",
        "\n",
        "            sse, __ = model_performance(predictions.detach().cpu().numpy(), target.detach().cpu().numpy())\n",
        "\n",
        "            loss.backward()\n",
        "            optimizer.step()\n",
        "\n",
        "            epoch_loss += loss.item()*target.shape[0]\n",
        "            epoch_sse += sse\n",
        "\n",
        "        valid_loss, valid_mse, __, __ = eval(dev_iter, model, custom_input)\n",
        "\n",
        "        epoch_loss, epoch_mse = epoch_loss / no_observations, epoch_sse / no_observations\n",
        "        print(f'| Epoch: {epoch:02} | Train Loss: {epoch_loss:.4f} | Train MSE: {epoch_mse:.4f} | Train RMSE: {epoch_mse**0.5:.4f} | \\\n",
        "        Val. Loss: {valid_loss:.4f} | Val. MSE: {valid_mse:.4f} |  Val. RMSE: {valid_mse**0.5:.4f} |')"
      ],
      "execution_count": null,
      "outputs": []
    },
    {
      "cell_type": "code",
      "metadata": {
        "id": "kFwZU7PWckDb"
      },
      "source": [
        "# We evaluate performance on our dev set\n",
        "def eval(data_iter, model, custom_input=False):\n",
        "    \"\"\"\n",
        "    Evaluating model performance on the dev set\n",
        "    \"\"\"\n",
        "    model.eval()\n",
        "    epoch_loss = 0\n",
        "    epoch_sse = 0\n",
        "    pred_all = []\n",
        "    trg_all = []\n",
        "    no_observations = 0\n",
        "\n",
        "    with torch.no_grad():\n",
        "        for batch in data_iter:\n",
        "            if custom_input:\n",
        "                feature, orig_seq, edit_seq, target = batch\n",
        "                feature, orig_seq, edit_seq, target = feature.to(device), orig_seq.to(device), edit_seq.to(device), target.to(device)\n",
        "            else:\n",
        "                feature, target = batch\n",
        "                feature, target = feature.to(device), target.to(device)\n",
        "\n",
        "            # for RNN:\n",
        "            model.batch_size = target.shape[0]\n",
        "            no_observations = no_observations + target.shape[0]\n",
        "            model.hidden = model.init_hidden()\n",
        "\n",
        "            if custom_input:\n",
        "                predictions = model(feature, orig_seq, edit_seq).squeeze(1)\n",
        "            else:\n",
        "                predictions = model(feature).squeeze(1)\n",
        "\n",
        "            loss = loss_fn(predictions, target)\n",
        "\n",
        "            # We get the mse\n",
        "            pred, trg = predictions.detach().cpu().numpy(), target.detach().cpu().numpy()\n",
        "            sse, __ = model_performance(pred, trg)\n",
        "\n",
        "            epoch_loss += loss.item()*target.shape[0]\n",
        "            epoch_sse += sse\n",
        "            pred_all.extend(pred)\n",
        "            trg_all.extend(trg)\n",
        "\n",
        "    return epoch_loss/no_observations, epoch_sse/no_observations, np.array(pred_all), np.array(trg_all)"
      ],
      "execution_count": null,
      "outputs": []
    },
    {
      "cell_type": "code",
      "metadata": {
        "id": "ARogerWickDb"
      },
      "source": [
        "# How we print the model performance\n",
        "def model_performance(output, target, print_output=False):\n",
        "    \"\"\"\n",
        "    Returns SSE and MSE per batch (printing the MSE and the RMSE)\n",
        "    \"\"\"\n",
        "\n",
        "    sq_error = (output - target)**2\n",
        "\n",
        "    sse = np.sum(sq_error)\n",
        "    mse = np.mean(sq_error)\n",
        "    rmse = np.sqrt(mse)\n",
        "\n",
        "    if print_output:\n",
        "        print(f'| MSE: {mse:.4f} | RMSE: {rmse:.4f} |')\n",
        "\n",
        "    return sse, mse"
      ],
      "execution_count": null,
      "outputs": []
    },
    {
      "cell_type": "code",
      "metadata": {
        "id": "YbULjtwTckDb"
      },
      "source": [
        "def create_vocab(data):\n",
        "    \"\"\"\n",
        "    Creating a corpus of all the tokens used\n",
        "    \"\"\"\n",
        "    tokenized_corpus = [] # Let us put the tokenized corpus in a list\n",
        "\n",
        "    for sentence in data:\n",
        "\n",
        "        tokenized_sentence = []\n",
        "\n",
        "        for token in sentence.split(' '): # simplest split is\n",
        "\n",
        "            tokenized_sentence.append(token)\n",
        "\n",
        "        tokenized_corpus.append(tokenized_sentence)\n",
        "\n",
        "    # Create single list of all vocabulary\n",
        "    vocabulary = []  # Let us put all the tokens (mostly words) appearing in the vocabulary in a list\n",
        "\n",
        "    for sentence in tokenized_corpus:\n",
        "\n",
        "        for token in sentence:\n",
        "\n",
        "            if token not in vocabulary:\n",
        "\n",
        "                if True:\n",
        "                    vocabulary.append(token)\n",
        "\n",
        "    return vocabulary, tokenized_corpus"
      ],
      "execution_count": null,
      "outputs": []
    },
    {
      "cell_type": "code",
      "metadata": {
        "id": "HfLcauAockDb"
      },
      "source": [
        "def collate_fn_padd(batch):\n",
        "    '''\n",
        "    We add padding to our minibatches and create tensors for our model\n",
        "    '''\n",
        "\n",
        "    batch_labels = [l for f, l in batch]\n",
        "    batch_features = [f for f, l in batch]\n",
        "\n",
        "    batch_features_len = [len(f) for f, l in batch]\n",
        "    seq_tensor = torch.zeros((len(batch), max(batch_features_len))).long()\n",
        "\n",
        "    for idx, (seq, seqlen) in enumerate(zip(batch_features, batch_features_len)):\n",
        "        seq_tensor[idx, :seqlen] = torch.LongTensor(seq)\n",
        "\n",
        "    batch_labels = torch.FloatTensor(batch_labels)\n",
        "\n",
        "    return seq_tensor, batch_labels\n",
        "\n",
        "class Task1Dataset(Dataset):\n",
        "\n",
        "    def __init__(self, train_data, labels):\n",
        "        self.x_train = train_data\n",
        "        self.y_train = labels\n",
        "\n",
        "    def __len__(self):\n",
        "        return len(self.y_train)\n",
        "\n",
        "    def __getitem__(self, item):\n",
        "        return self.x_train[item], self.y_train[item]"
      ],
      "execution_count": null,
      "outputs": []
    },
    {
      "cell_type": "markdown",
      "metadata": {
        "id": "kDQCV-zRMkM8"
      },
      "source": [
        "# Baseline Models (Provided)"
      ]
    },
    {
      "cell_type": "markdown",
      "metadata": {
        "id": "rbndJOHHxvtB"
      },
      "source": [
        "### Bidirectional LSTM with Glove"
      ]
    },
    {
      "cell_type": "code",
      "metadata": {
        "id": "a2nyFqteckDc"
      },
      "source": [
        "class BiLSTM(nn.Module):\n",
        "\n",
        "    def __init__(self, embedding_dim, hidden_dim, vocab_size, batch_size, device):\n",
        "        super(BiLSTM, self).__init__()\n",
        "        self.hidden_dim = hidden_dim\n",
        "        self.embedding_dim = embedding_dim\n",
        "        self.device = device\n",
        "        self.batch_size = batch_size\n",
        "        self.embedding = nn.Embedding(vocab_size, embedding_dim, padding_idx=0)\n",
        "\n",
        "        # The LSTM takes word embeddings as inputs, and outputs hidden states\n",
        "        # with dimensionality hidden_dim.\n",
        "        self.lstm = nn.LSTM(embedding_dim, hidden_dim, bidirectional=True)\n",
        "\n",
        "        # The linear layer that maps from hidden state space to tag space\n",
        "        self.hidden2label = nn.Linear(hidden_dim * 2, 1)\n",
        "        self.hidden = self.init_hidden()\n",
        "\n",
        "    def init_hidden(self):\n",
        "        # Before we've done anything, we dont have any hidden state.\n",
        "        # Refer to the Pytorch documentation to see exactly why they have this dimensionality.\n",
        "        # The axes semantics are (num_layers * num_directions, minibatch_size, hidden_dim)\n",
        "        return torch.zeros(2, self.batch_size, self.hidden_dim).to(self.device), \\\n",
        "               torch.zeros(2, self.batch_size, self.hidden_dim).to(self.device)\n",
        "\n",
        "    def forward(self, sentence):\n",
        "        embedded = self.embedding(sentence)\n",
        "        embedded = embedded.permute(1, 0, 2)\n",
        "\n",
        "        lstm_out, self.hidden = self.lstm(\n",
        "            embedded.view(len(embedded), self.batch_size, self.embedding_dim), self.hidden)\n",
        "\n",
        "        out = self.hidden2label(lstm_out[-1])\n",
        "        return out"
      ],
      "execution_count": null,
      "outputs": []
    },
    {
      "cell_type": "code",
      "metadata": {
        "scrolled": true,
        "id": "3vPVBbF_ckDc",
        "colab": {
          "base_uri": "https://localhost:8080/"
        },
        "outputId": "cef2ffb5-862a-4487-b900-2da8a9cd4892"
      },
      "source": [
        "## Approach 1 code, using functions defined above:\n",
        "\n",
        "# We set our training data and test data\n",
        "training_data = train_df['original']\n",
        "test_data = test_df['original']\n",
        "\n",
        "# Creating word vectors\n",
        "training_vocab, training_tokenized_corpus = create_vocab(training_data)\n",
        "test_vocab, test_tokenized_corpus = create_vocab(test_data)\n",
        "\n",
        "# Creating joint vocab from test and train:\n",
        "joint_vocab, joint_tokenized_corpus = create_vocab(pd.concat([training_data, test_data]))\n",
        "\n",
        "print(\"Vocab created.\")\n",
        "\n",
        "# We create representations for our tokens\n",
        "wvecs = [np.zeros(100)] # word vectors\n",
        "word2idx = [('<unknown>', 0)] # word2index\n",
        "idx2word = [(0, '<unknown>')]\n",
        "\n",
        "# This is a large file, it will take a while to load in the memory!\n",
        "with codecs.open('glove.6B.100d.txt', 'r','utf-8') as f:\n",
        "  index = 1\n",
        "  for line in f.readlines():\n",
        "    # Ignore the first line - first line typically contains vocab, dimensionality\n",
        "    if len(line.strip().split()) > 3:\n",
        "      word = line.strip().split()[0]\n",
        "      if word in joint_vocab:\n",
        "          (word, vec) = (word,\n",
        "                     list(map(float,line.strip().split()[1:])))\n",
        "          wvecs.append(vec)\n",
        "          word2idx.append((word, index))\n",
        "          idx2word.append((index, word))\n",
        "          index += 1\n",
        "\n",
        "wvecs = np.array(wvecs)\n",
        "word2idx = dict(word2idx)\n",
        "idx2word = dict(idx2word)\n",
        "\n",
        "# Convert training corpus to vectors\n",
        "vectorized_seqs = [[word2idx[tok] for tok in seq if tok in word2idx] for seq in training_tokenized_corpus]\n",
        "\n",
        "# To avoid any sentences being empty (if no words match to our word embeddings)\n",
        "vectorized_seqs = [x if len(x) > 0 else [0] for x in vectorized_seqs]\n",
        "\n",
        "INPUT_DIM = len(word2idx)\n",
        "EMBEDDING_DIM = 100\n",
        "BATCH_SIZE = 32\n",
        "\n",
        "model = BiLSTM(EMBEDDING_DIM, 50, INPUT_DIM, BATCH_SIZE, device)\n",
        "print(\"Model initialised.\")\n",
        "\n",
        "model.to(device)\n",
        "# We provide the model with our embeddings\n",
        "model.embedding.weight.data.copy_(torch.from_numpy(wvecs))\n",
        "\n",
        "feature = vectorized_seqs\n",
        "\n",
        "# 'feature' is a list of lists, each containing embedding IDs for word tokens\n",
        "train_and_dev = Task1Dataset(feature, train_df['meanGrade'])\n",
        "\n",
        "train_examples = round(len(train_and_dev)*train_proportion)\n",
        "dev_examples = len(train_and_dev) - train_examples\n",
        "\n",
        "train_dataset, dev_dataset = random_split(train_and_dev,\n",
        "                                           (train_examples,\n",
        "                                            dev_examples))\n",
        "\n",
        "train_loader = torch.utils.data.DataLoader(train_dataset, shuffle=True, batch_size=BATCH_SIZE, collate_fn=collate_fn_padd)\n",
        "dev_loader = torch.utils.data.DataLoader(dev_dataset, batch_size=BATCH_SIZE, collate_fn=collate_fn_padd)\n",
        "\n",
        "print(\"Dataloaders created.\")\n",
        "\n",
        "loss_fn = nn.MSELoss()\n",
        "loss_fn = loss_fn.to(device)\n",
        "\n",
        "optimizer = torch.optim.Adam(model.parameters())\n",
        "\n",
        "train(train_loader, dev_loader, model, epochs)"
      ],
      "execution_count": null,
      "outputs": [
        {
          "output_type": "stream",
          "text": [
            "Vocab created.\n",
            "Model initialised.\n",
            "Dataloaders created.\n",
            "Training model.\n",
            "| Epoch: 01 | Train Loss: 0.3891 | Train MSE: 0.3891 | Train RMSE: 0.6238 |         Val. Loss: 0.3480 | Val. MSE: 0.3480 |  Val. RMSE: 0.5899 |\n",
            "| Epoch: 02 | Train Loss: 0.3364 | Train MSE: 0.3364 | Train RMSE: 0.5800 |         Val. Loss: 0.3510 | Val. MSE: 0.3510 |  Val. RMSE: 0.5925 |\n",
            "| Epoch: 03 | Train Loss: 0.3213 | Train MSE: 0.3213 | Train RMSE: 0.5669 |         Val. Loss: 0.3565 | Val. MSE: 0.3565 |  Val. RMSE: 0.5970 |\n",
            "| Epoch: 04 | Train Loss: 0.2947 | Train MSE: 0.2947 | Train RMSE: 0.5428 |         Val. Loss: 0.3552 | Val. MSE: 0.3552 |  Val. RMSE: 0.5960 |\n",
            "| Epoch: 05 | Train Loss: 0.2675 | Train MSE: 0.2675 | Train RMSE: 0.5172 |         Val. Loss: 0.3673 | Val. MSE: 0.3673 |  Val. RMSE: 0.6060 |\n",
            "| Epoch: 06 | Train Loss: 0.2502 | Train MSE: 0.2502 | Train RMSE: 0.5002 |         Val. Loss: 0.3778 | Val. MSE: 0.3778 |  Val. RMSE: 0.6147 |\n",
            "| Epoch: 07 | Train Loss: 0.2381 | Train MSE: 0.2381 | Train RMSE: 0.4879 |         Val. Loss: 0.3843 | Val. MSE: 0.3843 |  Val. RMSE: 0.6199 |\n",
            "| Epoch: 08 | Train Loss: 0.2287 | Train MSE: 0.2287 | Train RMSE: 0.4782 |         Val. Loss: 0.3915 | Val. MSE: 0.3915 |  Val. RMSE: 0.6257 |\n",
            "| Epoch: 09 | Train Loss: 0.2218 | Train MSE: 0.2218 | Train RMSE: 0.4709 |         Val. Loss: 0.3819 | Val. MSE: 0.3819 |  Val. RMSE: 0.6180 |\n",
            "| Epoch: 10 | Train Loss: 0.2166 | Train MSE: 0.2166 | Train RMSE: 0.4654 |         Val. Loss: 0.4085 | Val. MSE: 0.4085 |  Val. RMSE: 0.6391 |\n"
          ],
          "name": "stdout"
        }
      ]
    },
    {
      "cell_type": "markdown",
      "metadata": {
        "id": "-hP51ZLXckDd"
      },
      "source": [
        "### TF-IDF with Linear Regression"
      ]
    },
    {
      "cell_type": "code",
      "metadata": {
        "id": "i9aGRSRZckDe",
        "colab": {
          "base_uri": "https://localhost:8080/"
        },
        "outputId": "cd13db0a-9f47-4f4b-f458-8c8cab3292ee"
      },
      "source": [
        "train_and_dev = train_df['edit']\n",
        "\n",
        "# Just using edit word, doesn't take into account og headline\n",
        "training_data, dev_data, training_y, dev_y = train_test_split(train_df['edit'], train_df['meanGrade'],\n",
        "                                                                        test_size=(1-train_proportion),\n",
        "                                                                        random_state=42)\n",
        "\n",
        "# We train a Tf-idf model\n",
        "count_vect = CountVectorizer(stop_words='english')\n",
        "train_counts = count_vect.fit_transform(training_data)\n",
        "transformer = TfidfTransformer().fit(train_counts)\n",
        "train_counts = transformer.transform(train_counts)\n",
        "\n",
        "# Training model\n",
        "regression_model = LinearRegression().fit(train_counts, training_y)\n",
        "\n",
        "# Getting training set predictions\n",
        "predicted_train = regression_model.predict(train_counts)\n",
        "\n",
        "# Calculate Tf-idf using train and dev, and validate model on dev:\n",
        "test_and_test_counts = count_vect.transform(train_and_dev)\n",
        "transformer = TfidfTransformer().fit(test_and_test_counts)\n",
        "\n",
        "test_counts = count_vect.transform(dev_data)\n",
        "\n",
        "test_counts = transformer.transform(test_counts)\n",
        "\n",
        "# Dev predictions\n",
        "predicted = regression_model.predict(test_counts)\n",
        "\n",
        "# We run the evaluation:\n",
        "print(\"\\nTrain performance:\")\n",
        "sse, mse = model_performance(predicted_train, training_y, True)\n",
        "\n",
        "print(\"\\nDev performance:\")\n",
        "sse, mse = model_performance(predicted, dev_y, True)"
      ],
      "execution_count": null,
      "outputs": [
        {
          "output_type": "stream",
          "text": [
            "\n",
            "Train performance:\n",
            "| MSE: 0.1344 | RMSE: 0.3667 |\n",
            "\n",
            "Dev performance:\n",
            "| MSE: 0.3648 | RMSE: 0.6040 |\n"
          ],
          "name": "stdout"
        }
      ]
    },
    {
      "cell_type": "markdown",
      "metadata": {
        "id": "T7mPQzYOckDe"
      },
      "source": [
        "### Baseline from Mean\r\n",
        "Predicts mean of training set regardless of input"
      ]
    },
    {
      "cell_type": "code",
      "metadata": {
        "id": "6hGVwNvtckDe",
        "colab": {
          "base_uri": "https://localhost:8080/"
        },
        "outputId": "83cfc584-5baf-4cd8-e60c-41914b7ae767"
      },
      "source": [
        "# Baseline for the task\n",
        "pred_baseline = torch.zeros(len(dev_y)) + np.mean(training_y)\n",
        "print(\"\\nBaseline performance:\")\n",
        "sse, mse = model_performance(pred_baseline, dev_y, True)"
      ],
      "execution_count": null,
      "outputs": [
        {
          "output_type": "stream",
          "text": [
            "\n",
            "Baseline performance:\n",
            "| MSE: 0.3390 | RMSE: 0.5823 |\n"
          ],
          "name": "stdout"
        }
      ]
    },
    {
      "cell_type": "markdown",
      "metadata": {
        "id": "ZTZDgK-igNkD"
      },
      "source": [
        "# Approach 1: Uses retrained representations, see other colab notebook for this"
      ]
    },
    {
      "cell_type": "markdown",
      "metadata": {
        "id": "HatWFOBEMv4D"
      },
      "source": [
        "# Approach 2: No pretrained representations"
      ]
    },
    {
      "cell_type": "markdown",
      "metadata": {
        "id": "n3-6IaYyyrOq"
      },
      "source": [
        "### TF-IDF with Other Regression Models (SVR, Random Forest)"
      ]
    },
    {
      "cell_type": "markdown",
      "metadata": {
        "id": "kBNi-dxjcoTR"
      },
      "source": [
        "First, we extend the input to include full headline before and after edit:"
      ]
    },
    {
      "cell_type": "code",
      "metadata": {
        "id": "0nAYJml7n1P_"
      },
      "source": [
        "# Create columns for full headline before & after edit\r\n",
        "train_df[\"new\"] = train_df.apply(\r\n",
        "  lambda row: re.sub(r\"<.+/>\", row[\"edit\"], row[\"original\"]), axis=1\r\n",
        ")\r\n",
        "train_df[\"old\"] = train_df[\"original\"].str.replace(r\"<(.+)/>\", \"\\g<1>\")\r\n",
        "\r\n",
        "test_df[\"new\"] = test_df.apply(\r\n",
        "  lambda row: re.sub(r\"<.+/>\", row[\"edit\"], row[\"original\"]), axis=1\r\n",
        ")\r\n",
        "test_df[\"old\"] = test_df[\"original\"].str.replace(r\"<(.+)/>\", \"\\g<1>\")\r\n",
        "\r\n",
        "# We train a Tf-idf model for original and new headline\r\n",
        "count_vect = CountVectorizer(stop_words='english')\r\n",
        "train_counts = count_vect.fit_transform(train_df['old'])\r\n",
        "transformer = TfidfTransformer().fit(train_counts)\r\n",
        "train_counts = transformer.transform(train_counts)\r\n",
        "\r\n",
        "count_vect_edited = CountVectorizer(stop_words='english')\r\n",
        "train_counts_edited = count_vect_edited.fit_transform(train_df['new'])\r\n",
        "transformer_edited = TfidfTransformer().fit(train_counts_edited)\r\n",
        "train_counts_edited = transformer_edited.transform(train_counts_edited)\r\n",
        "\r\n",
        "training_x = hstack((train_counts, train_counts_edited))\r\n",
        "training_y = train_df['meanGrade']\r\n",
        "\r\n",
        "# Processing test data\r\n",
        "test_counts = count_vect.transform(test_df['old'])\r\n",
        "test_counts = transformer.transform(test_counts)\r\n",
        "test_counts_edited = count_vect_edited.transform(test_df['new'])\r\n",
        "test_counts_edited = transformer_edited.transform(test_counts_edited)\r\n",
        "\r\n",
        "testing_x = hstack((test_counts, test_counts_edited))\r\n",
        "testing_y = test_df['meanGrade']"
      ],
      "execution_count": null,
      "outputs": []
    },
    {
      "cell_type": "markdown",
      "metadata": {
        "id": "jLGhSQYZLRUj"
      },
      "source": [
        "Linear Regression:"
      ]
    },
    {
      "cell_type": "code",
      "metadata": {
        "colab": {
          "base_uri": "https://localhost:8080/"
        },
        "id": "nLH4hjeTLPNN",
        "outputId": "add66773-3eb6-47b0-8917-f8d641a85a89"
      },
      "source": [
        "# Training model\r\n",
        "lr = LinearRegression().fit(training_x, training_y)\r\n",
        "\r\n",
        "# Getting training set predictions\r\n",
        "predicted_train = lr.predict(training_x)\r\n",
        "\r\n",
        "# Test predictions\r\n",
        "predicted = lr.predict(testing_x)\r\n",
        "\r\n",
        "# We run the evaluation:\r\n",
        "print(\"\\nTrain performance:\")\r\n",
        "sse, mse = model_performance(predicted_train, training_y, True)\r\n",
        "\r\n",
        "print(\"\\nDev performance:\")\r\n",
        "sse, mse = model_performance(predicted, testing_y, True)"
      ],
      "execution_count": null,
      "outputs": [
        {
          "output_type": "stream",
          "text": [
            "\n",
            "Train performance:\n",
            "| MSE: 0.0006 | RMSE: 0.0249 |\n",
            "\n",
            "Dev performance:\n",
            "| MSE: 548.8074 | RMSE: 23.4266 |\n"
          ],
          "name": "stdout"
        }
      ]
    },
    {
      "cell_type": "markdown",
      "metadata": {
        "id": "qN6EbMvoc6au"
      },
      "source": [
        "SVR:"
      ]
    },
    {
      "cell_type": "code",
      "metadata": {
        "colab": {
          "base_uri": "https://localhost:8080/"
        },
        "id": "Lc6bHDtuclVO",
        "outputId": "8c305a58-ec64-48e7-8390-70f5b155d013"
      },
      "source": [
        "# Training model\r\n",
        "svr = SVR().fit(training_x, training_y)\r\n",
        "\r\n",
        "# Getting training set predictions\r\n",
        "predicted_train = svr.predict(training_x)\r\n",
        "\r\n",
        "# Test predictions\r\n",
        "predicted = svr.predict(testing_x)\r\n",
        "\r\n",
        "# We run the evaluation:\r\n",
        "print(\"\\nTrain performance:\")\r\n",
        "sse, mse = model_performance(predicted_train, training_y, True)\r\n",
        "\r\n",
        "print(\"\\nDev performance:\")\r\n",
        "sse, mse = model_performance(predicted, testing_y, True)"
      ],
      "execution_count": null,
      "outputs": [
        {
          "output_type": "stream",
          "text": [
            "\n",
            "Train performance:\n",
            "| MSE: 0.0931 | RMSE: 0.3051 |\n",
            "\n",
            "Dev performance:\n",
            "| MSE: 0.3131 | RMSE: 0.5596 |\n"
          ],
          "name": "stdout"
        }
      ]
    },
    {
      "cell_type": "markdown",
      "metadata": {
        "id": "aLc35_m-c8X6"
      },
      "source": [
        "Random Forest Regressor:"
      ]
    },
    {
      "cell_type": "code",
      "metadata": {
        "colab": {
          "base_uri": "https://localhost:8080/"
        },
        "id": "hpIpANdSc96m",
        "outputId": "bf709168-a8eb-4f77-96f7-570cac83c3d7"
      },
      "source": [
        "# Training model\r\n",
        "rfr = RandomForestRegressor(n_estimators=50, n_jobs=-1, random_state=42)\r\n",
        "rfr = rfr.fit(training_x, training_y)\r\n",
        "\r\n",
        "# Getting training set predictions\r\n",
        "predicted_train = rfr.predict(training_x)\r\n",
        "\r\n",
        "# Test predictions\r\n",
        "predicted = rfr.predict(testing_x)\r\n",
        "\r\n",
        "# We run the evaluation:\r\n",
        "print(\"\\nTrain performance:\")\r\n",
        "sse, mse = model_performance(predicted_train, training_y, True)\r\n",
        "\r\n",
        "print(\"\\nDev performance:\")\r\n",
        "sse, mse = model_performance(predicted, testing_y, True)"
      ],
      "execution_count": null,
      "outputs": [
        {
          "output_type": "stream",
          "text": [
            "\n",
            "Train performance:\n",
            "| MSE: 0.0494 | RMSE: 0.2223 |\n",
            "\n",
            "Dev performance:\n",
            "| MSE: 0.3345 | RMSE: 0.5783 |\n"
          ],
          "name": "stdout"
        }
      ]
    },
    {
      "cell_type": "markdown",
      "metadata": {
        "id": "WI5hoJWKNIy9"
      },
      "source": [
        "## HumourNet"
      ]
    },
    {
      "cell_type": "markdown",
      "metadata": {
        "id": "sTnTonaUMFU6"
      },
      "source": [
        "### Data Preprocessing Functions\n",
        "\n",
        "In this section we have implemented some basic functions for preprocessing our data including punctuation removal, whitespace removal, and stop word removal. We also experimented with adding a preprocessing step which replaces variations of phrases containing 'trump' in the replacement section (eg: 'president trump', 'donald trump') with 'trump'."
      ]
    },
    {
      "cell_type": "code",
      "metadata": {
        "id": "IsYg_3AENjhE"
      },
      "source": [
        "def remove_punct(headline):\n",
        "  table = str.maketrans('', '', \"!\\\"#$%&'()*+,-.:;=?@[\\]^_`{|}~»‘’“”—\")\n",
        "  return headline.translate(table)\n",
        "\n",
        "\n",
        "def remove_excessive_whitespace(headline):\n",
        "  return re.sub(' +', ' ', headline).strip()\n",
        "\n",
        "\n",
        "def remove_whitespace(edit_word):\n",
        "  return edit_word.replace(\" \", \"\")\n",
        "\n",
        "\n",
        "def to_lower(headline):\n",
        "  return headline.lower()\n",
        "\n",
        "\n",
        "def remove_stop_words(headline):\n",
        "  stop_words = set([\"the\", \"a\", \"an\", \"that\", \"is\", \"and\", \"or\", \"its\", \"in\", \"m\", \"s\", \"t\", \"ll\"])\n",
        "    \n",
        "  headline_SWR = []\n",
        "  for token in headline.split(\" \"):\n",
        "    if token not in stop_words and token != \"\":\n",
        "        headline_SWR.append(token)\n",
        "\n",
        "  return \" \".join(headline_SWR)\n",
        "\n",
        "\n",
        "def preprocess_replaced_word(headline):\n",
        "    \"\"\"\n",
        "    1. Removes spaces in replaced word\n",
        "    2. Convert all versions of trump to 'trump'\n",
        "    \"\"\"\n",
        "    trump_regex = regexp = re.compile(r'\\btrump\\b')\n",
        "    trump_vocab = 'trump'\n",
        "    replaced_words = re.findall(\"<(.*)/>\", headline)[0]\n",
        "    if trump_regex.search(replaced_words):\n",
        "        replaced_words = trump_vocab\n",
        "\n",
        "    replaced_words = replaced_words.replace(\" \", \"\")\n",
        "    headline = re.sub(\"<(.*)/>\", \"<\" + replaced_words + \"/>\", headline)\n",
        "    return headline  \n"
      ],
      "execution_count": null,
      "outputs": []
    },
    {
      "cell_type": "code",
      "metadata": {
        "id": "E3BNoTayN39H"
      },
      "source": [
        "def preprocess_fn(headline, punct_removal=True, whitespace_removal=True, stopword_removal=True, process_replaced_word=True):\n",
        "  headline = headline.lower()\n",
        "\n",
        "  if punct_removal:\n",
        "    headline = remove_punct(headline)\n",
        "\n",
        "  if whitespace_removal:\n",
        "    headline = remove_excessive_whitespace(headline)\n",
        "\n",
        "  if stopword_removal:\n",
        "    headline = remove_stop_words(headline)\n",
        "\n",
        "  if process_replaced_word:\n",
        "    headline = preprocess_replaced_word(headline)\n",
        "\n",
        "  return headline\n",
        "\n",
        "def preprocess(df, punct_removal=True, whitespace_removal=True, stopword_removal=True, process_replaced_word=True):\n",
        "  '''\n",
        "    Creates new columns 'original_preprocessed' and 'edit_preprocessed' in dataframe\n",
        "    contained preprocessed version of 'original' and 'edit' columns. Also creates new\n",
        "    'replaced_vocab' column consisting of word(s) which are replaced in headline.\n",
        "  '''\n",
        "  df['original_preprocessed'] = df['original'].apply(preprocess_fn, args=(punct_removal, whitespace_removal, stopword_removal, process_replaced_word))\n",
        "  df['edit_preprocessed'] = df['edit'].apply(preprocess_fn, args=(punct_removal, whitespace_removal, stopword_removal, False))\n",
        "  df['replaced_vocab'] = df['original_preprocessed'].apply(lambda x: re.findall(\"<(.*)/>\", x)[0])\n"
      ],
      "execution_count": null,
      "outputs": []
    },
    {
      "cell_type": "markdown",
      "metadata": {
        "id": "Z82tR0s2rx72"
      },
      "source": [
        "### Feature Extraction"
      ]
    },
    {
      "cell_type": "code",
      "metadata": {
        "id": "tQFRvEyvNuFu"
      },
      "source": [
        "# Calculates the relative position of the replaced word, normalised by the length of the sentence\n",
        "# Assumes headline is cleaned (punctuation & whitespace removed)\n",
        "def calc_relative_pos(headline):\n",
        "  words = headline.split();\n",
        "  max_word_index = len(words) - 1\n",
        "\n",
        "  for i in range(max_word_index + 1):\n",
        "    if re.match(r\"<(.+)/>\", words[i]):\n",
        "      return i / max_word_index\n",
        "\n",
        "    elif re.match(r\"<(.+)\", words[i]):\n",
        "      # Multiple words replaced (assuming '<' char only appears for marking edited word)\n",
        "      j = i + 1\n",
        "      while j < max_word_index + 1:\n",
        "        if re.match(r\"(.+)/>\", words[j]):\n",
        "          return i / (max_word_index - (j - i))\n",
        "        j += 1\n",
        "  \n",
        "  raise Exception(\"Failed to calculate relative position for headline: %s\" % headline)\n",
        "\n",
        "\n",
        "# Returns headline length scaled to be in range [0, 1]\n",
        "def calc_headline_len(headline):\n",
        "  MAX_LEN = 20 # Max headline length in data after preprocessing\n",
        "\n",
        "  headline_len = 0\n",
        "  for word in headline.split():\n",
        "      headline_len += 1\n",
        "\n",
        "  return headline_len/MAX_LEN\n",
        "\n",
        "\n",
        "# Returns cosine distance between edit and edited word in embedding\n",
        "def calc_edit_distance(original_embedded, edit_embedded):\n",
        "  print(original_embedded)\n",
        "  print(edit_embedded)\n",
        "  cos = torch.tensordot(original_embedded, edit_embedded) / (torch.linalg.norm(original_embedded, dim=1) * torch.linalg.norm(edit_embedded, dim=1))\n",
        "  print(cos)\n",
        "  return cos\n",
        "\n",
        "\n",
        "def contains_trump(headline):\n",
        "  for word in headline.split():\n",
        "    if word == 'trump':\n",
        "      return 1\n",
        "  return 0\n",
        "\n",
        "\n",
        "def contains_trump_and_hair(headline):\n",
        "  contains_trump = False\n",
        "  contains_hair = False\n",
        "  for word in headline.split():\n",
        "    if word == 'trump':\n",
        "      contains_trump = True\n",
        "    if word == 'hair':\n",
        "      contains_hair == True\n",
        "  return int(contains_trump and contains_hair)\n",
        "\n",
        "\n",
        "def extract_features(df, features_map, joint_vocab=None, word2idx=None):\n",
        "  if features_map['relative_edit_pos']:\n",
        "    df['relative_edit_pos'] = df.apply(\n",
        "      lambda row: calc_relative_pos(row['original_preprocessed']), axis=1\n",
        "    )\n",
        "  if features_map['headline_length']:\n",
        "    df[\"headline_length\"] = df.apply(\n",
        "      lambda row: calc_headline_len(row[\"original_preprocessed\"]), axis=1\n",
        "    )\n",
        "  if features_map['trump']:\n",
        "    df['trump'] = df.apply(\n",
        "      lambda row: contains_trump(row[\"original_preprocessed\"]), axis=1\n",
        "    )\n",
        "  if features_map['trump_hair']:\n",
        "    df['trump_hair'] = df.apply(\n",
        "      lambda row: contains_trump_and_hair(row[\"original_preprocessed\"]), axis=1\n",
        "    )\n",
        "    \n",
        "  if word2idx is not None:\n",
        "    df['replaced_vocab_index'] = df.apply(lambda row: word2idx[row['replaced_vocab']] if row['replaced_vocab'] in word2idx else 0, axis=1)\n",
        "    df['edit_vocab_index'] = df.apply(lambda row: word2idx[row['edit_preprocessed']] if row['edit_preprocessed'] in word2idx else 0, axis=1)\n",
        "  elif joint_vocab is not None:\n",
        "    df['replaced_vocab_index'] = df.apply(lambda row: joint_vocab.index(row['replaced_vocab']), axis=1)\n",
        "    df['edit_vocab_index'] = df.apply(lambda row: joint_vocab.index(row['edit_preprocessed']), axis=1)"
      ],
      "execution_count": null,
      "outputs": []
    },
    {
      "cell_type": "markdown",
      "metadata": {
        "id": "wAJtzcJQrl5w"
      },
      "source": [
        "### HumorNet model"
      ]
    },
    {
      "cell_type": "code",
      "metadata": {
        "id": "na79RuWtr5rm"
      },
      "source": [
        "class WordEncoder(nn.Module):\r\n",
        "  def __init__(self, embedding_dim, dropout=0.5):\r\n",
        "    super(WordEncoder, self).__init__()\r\n",
        "    self.network = nn.Sequential(\r\n",
        "        nn.Linear(embedding_dim, 64),\r\n",
        "        nn.Dropout(dropout),\r\n",
        "        nn.ReLU(),\r\n",
        "        nn.Linear(64, 32),\r\n",
        "        nn.Dropout(dropout),\r\n",
        "        nn.ReLU(),\r\n",
        "        nn.Linear(32, 16),\r\n",
        "        nn.Dropout(dropout),\r\n",
        "        nn.Tanh(),\r\n",
        "    )\r\n",
        "  \r\n",
        "  def forward(self, x1, x2):\r\n",
        "    out1 = self.network(x1)\r\n",
        "    out2 = self.network(x2)\r\n",
        "    dist = torch.abs(out1 - out2)\r\n",
        "    return dist\r\n",
        "  \r\n",
        "\r\n",
        "class FeatureEncoder(nn.Module):\r\n",
        "  def __init__(self, num_features=3):\r\n",
        "    super(FeatureEncoder, self).__init__()\r\n",
        "    self.network = nn.Sequential(\r\n",
        "        nn.Linear(num_features, 16),\r\n",
        "        nn.Dropout(0.5),\r\n",
        "        nn.ReLU(),\r\n",
        "        nn.Linear(16, 8),\r\n",
        "        nn.Dropout(0.5),\r\n",
        "        nn.ReLU()\r\n",
        "    )\r\n",
        "\r\n",
        "  def forward(self, x):\r\n",
        "    return self.network(x)\r\n",
        "\r\n",
        "\r\n",
        "class HumourNetwork(nn.Module):\r\n",
        "  def __init__(\r\n",
        "      self, \r\n",
        "      num_embeddings, \r\n",
        "      embedding_dim, \r\n",
        "      num_features, \r\n",
        "      use_edit_distance_feature, \r\n",
        "      use_word_encoder,\r\n",
        "      use_feature_encoder,\r\n",
        "      device\r\n",
        "    ):\r\n",
        "    super(HumourNetwork, self).__init__()\r\n",
        "    self.word_encoder = WordEncoder(embedding_dim)\r\n",
        "    self.feature_encoder = FeatureEncoder(num_features)\r\n",
        "    self.num_features = num_features\r\n",
        "    self.use_edit_distance_feature = use_edit_distance_feature\r\n",
        "    self.embedding = nn.Embedding(num_embeddings, embedding_dim)\r\n",
        "    self.use_word_encoder = use_word_encoder\r\n",
        "    self.use_feature_encoder = use_feature_encoder\r\n",
        "    self.device = device\r\n",
        "    n = 0\r\n",
        "    if use_word_encoder:\r\n",
        "      n += 16\r\n",
        "    if use_feature_encoder:\r\n",
        "      n += 8\r\n",
        "    self.linear = nn.Sequential(\r\n",
        "        nn.Linear(n, 32),\r\n",
        "        nn.ReLU(),\r\n",
        "        nn.Dropout(),\r\n",
        "        nn.Linear(32, 1),\r\n",
        "        nn.ReLU()\r\n",
        "    )\r\n",
        "\r\n",
        "  def init_hidden(self):\r\n",
        "    pass\r\n",
        "\r\n",
        "  def forward(self, x):\r\n",
        "    train_replaced = x[:,-2]\r\n",
        "    train_edit = x[:,-1]\r\n",
        "    \r\n",
        "    features = x[:,:self.num_features - self.use_edit_distance_feature].type(torch.FloatTensor).to(self.device)\r\n",
        "\r\n",
        "    train_edit = self.embedding(train_edit)\r\n",
        "    train_replaced = self.embedding(train_replaced)\r\n",
        "\r\n",
        "    if self.use_edit_distance_feature:\r\n",
        "      word_distance = calc_edit_distance(train_replaced, train_edit).unsqueeze(1)\r\n",
        "      features = torch.cat((features, word_distance), dim=1)\r\n",
        "\r\n",
        "    if self.use_word_encoder and self.use_feature_encoder:\r\n",
        "      y_word = self.word_encoder.forward(train_edit, train_replaced)\r\n",
        "      y_feature = self.feature_encoder.forward(features)\r\n",
        "      concat_outputs = torch.cat((y_word, y_feature), dim=1)\r\n",
        "      return self.linear(concat_outputs)\r\n",
        "    \r\n",
        "    if self.use_feature_encoder:\r\n",
        "      y = self.feature_encoder.forward(features)\r\n",
        "    \r\n",
        "    if self.use_word_encoder:\r\n",
        "      y = self.word_encoder.forward(train_edit, train_replaced)\r\n",
        "    return self.linear(y)\r\n",
        "\r\n"
      ],
      "execution_count": null,
      "outputs": []
    },
    {
      "cell_type": "markdown",
      "metadata": {
        "id": "9VbRf9wyrpYZ"
      },
      "source": [
        "### HumourNet Experiments"
      ]
    },
    {
      "cell_type": "markdown",
      "metadata": {
        "id": "ibmvM70fHDV1"
      },
      "source": [
        "`present_componenets`: Experiment with and without different components of HumourNetwork. You need to set at least one encoder to `True`.\n",
        "\n",
        "`features_map`: Experiment with different extracted features. Setting a feature to `True` feeds it into the feature encoder, whilst `False` doesn't.\n",
        "\n",
        "`use_funlines`: Experiment with training using funlines dataset."
      ]
    },
    {
      "cell_type": "code",
      "metadata": {
        "id": "RR_-3j9KHALi"
      },
      "source": [
        "present_components = {\n",
        "    'word_encoder': True,\n",
        "    'feature_encoder': True\n",
        "}\n",
        "\n",
        "features_map = {\n",
        "    'trump': True, \n",
        "    'trump_hair': True, \n",
        "    'relative_edit_pos': True, \n",
        "    'headline_length': False,\n",
        "    'cosine_edit_distance': False,\n",
        "}\n",
        "\n",
        "use_funlines = True"
      ],
      "execution_count": null,
      "outputs": []
    },
    {
      "cell_type": "code",
      "metadata": {
        "colab": {
          "base_uri": "https://localhost:8080/"
        },
        "id": "nRcKRtmI6kYu",
        "outputId": "bb443152-8615-4623-b6c1-9af4a8661033"
      },
      "source": [
        "if use_funlines:\r\n",
        "    train_df_concat = pd.concat([train_df, train_funlines_df, val_df], axis=0)\r\n",
        "else:\r\n",
        "    train_df_concat = pd.concat([train_df, val_df], axis=0)\r\n",
        "train_df_concat = train_df_concat.reset_index(drop=True)\r\n",
        "\r\n",
        "num_features = sum(features_map.values())\r\n",
        "\r\n",
        "preprocess(train_df_concat)\r\n",
        "preprocess(test_df)\r\n",
        "\r\n",
        "joint_vocab, joint_tokenized_corpus = create_vocab(pd.concat(\r\n",
        "    [train_df_concat['replaced_vocab'],\r\n",
        "     test_df['replaced_vocab'],\r\n",
        "     train_df_concat['edit_preprocessed'],\r\n",
        "     test_df['edit_preprocessed']\r\n",
        "    ]))\r\n",
        "\r\n",
        "extract_features(train_df_concat, features_map, joint_vocab)\r\n",
        "extract_features(test_df, features_map, joint_vocab)\r\n",
        "\r\n",
        "# Get word embeddings for edit word and replaced word\r\n",
        "INPUT_DIM = len(joint_vocab)\r\n",
        "EMBEDDING_DIM = 100\r\n",
        "BATCH_SIZE = 32\r\n",
        "\r\n",
        "# 'feature' is a list of lists, each containing embedding IDs for word tokens\r\n",
        "present_features = dict(filter(lambda item: item[1] and item[0] != 'cosine_edit_distance', features_map.items()))\r\n",
        "columns = list(present_features.keys()) + ['replaced_vocab_index', 'edit_vocab_index']\r\n",
        "train_and_dev = Task1Dataset(train_df_concat[columns].values.tolist(), train_df_concat['meanGrade'])\r\n",
        "test = Task1Dataset(test_df[columns].values.tolist(), test_df['meanGrade'])\r\n",
        "\r\n",
        "train_loader = torch.utils.data.DataLoader(train_and_dev, shuffle=True, batch_size=BATCH_SIZE, collate_fn=collate_fn_padd)\r\n",
        "dev_loader = torch.utils.data.DataLoader(test, batch_size=BATCH_SIZE, collate_fn=collate_fn_padd)\r\n",
        "\r\n",
        "model = HumourNetwork(\r\n",
        "    INPUT_DIM, \r\n",
        "    EMBEDDING_DIM, \r\n",
        "    num_features, \r\n",
        "    features_map['cosine_edit_distance'], \r\n",
        "    present_components['word_encoder'], \r\n",
        "    present_components['feature_encoder'],\r\n",
        "    device\r\n",
        "  )\r\n",
        "model.to(device)\r\n",
        "\r\n",
        "loss_fn = nn.MSELoss()\r\n",
        "loss_fn = loss_fn.to(device)\r\n",
        "\r\n",
        "optimizer = torch.optim.Adam(model.parameters(), lr=0.0007)\r\n",
        "\r\n",
        "train(train_loader, dev_loader, model, 10)"
      ],
      "execution_count": null,
      "outputs": [
        {
          "output_type": "stream",
          "text": [
            "Training model.\n",
            "| Epoch: 01 | Train Loss: 0.4600 | Train MSE: 0.4600 | Train RMSE: 0.6782 |         Val. Loss: 0.3529 | Val. MSE: 0.3529 |  Val. RMSE: 0.5940 |\n",
            "| Epoch: 02 | Train Loss: 0.3917 | Train MSE: 0.3917 | Train RMSE: 0.6259 |         Val. Loss: 0.3304 | Val. MSE: 0.3304 |  Val. RMSE: 0.5748 |\n",
            "| Epoch: 03 | Train Loss: 0.3744 | Train MSE: 0.3744 | Train RMSE: 0.6119 |         Val. Loss: 0.3287 | Val. MSE: 0.3287 |  Val. RMSE: 0.5734 |\n",
            "| Epoch: 04 | Train Loss: 0.3697 | Train MSE: 0.3697 | Train RMSE: 0.6080 |         Val. Loss: 0.3282 | Val. MSE: 0.3282 |  Val. RMSE: 0.5729 |\n",
            "| Epoch: 05 | Train Loss: 0.3601 | Train MSE: 0.3601 | Train RMSE: 0.6001 |         Val. Loss: 0.3258 | Val. MSE: 0.3258 |  Val. RMSE: 0.5708 |\n",
            "| Epoch: 06 | Train Loss: 0.3568 | Train MSE: 0.3568 | Train RMSE: 0.5973 |         Val. Loss: 0.3244 | Val. MSE: 0.3244 |  Val. RMSE: 0.5695 |\n",
            "| Epoch: 07 | Train Loss: 0.3483 | Train MSE: 0.3483 | Train RMSE: 0.5901 |         Val. Loss: 0.3227 | Val. MSE: 0.3227 |  Val. RMSE: 0.5681 |\n",
            "| Epoch: 08 | Train Loss: 0.3424 | Train MSE: 0.3424 | Train RMSE: 0.5852 |         Val. Loss: 0.3208 | Val. MSE: 0.3208 |  Val. RMSE: 0.5664 |\n",
            "| Epoch: 09 | Train Loss: 0.3364 | Train MSE: 0.3364 | Train RMSE: 0.5800 |         Val. Loss: 0.3179 | Val. MSE: 0.3179 |  Val. RMSE: 0.5638 |\n",
            "| Epoch: 10 | Train Loss: 0.3287 | Train MSE: 0.3287 | Train RMSE: 0.5733 |         Val. Loss: 0.3175 | Val. MSE: 0.3175 |  Val. RMSE: 0.5635 |\n"
          ],
          "name": "stdout"
        }
      ]
    },
    {
      "cell_type": "markdown",
      "metadata": {
        "id": "7pXiF08lG1Fn"
      },
      "source": [
        "#### Distribution of predictions"
      ]
    },
    {
      "cell_type": "code",
      "metadata": {
        "colab": {
          "base_uri": "https://localhost:8080/",
          "height": 337
        },
        "id": "AfYYreCjQfLe",
        "outputId": "e03144d5-32be-4bbf-d8a2-acbdb1781666"
      },
      "source": [
        "_, _, preds, _ = eval(dev_loader, model)\n",
        "pd.Series(preds).hist(figsize=(5, 5))"
      ],
      "execution_count": null,
      "outputs": [
        {
          "output_type": "execute_result",
          "data": {
            "text/plain": [
              "<matplotlib.axes._subplots.AxesSubplot at 0x7f3851b8b490>"
            ]
          },
          "metadata": {
            "tags": []
          },
          "execution_count": 38
        },
        {
          "output_type": "display_data",
          "data": {
            "image/png": "[encoded data removed]",
            "text/plain": [
              "<Figure size 360x360 with 1 Axes>"
            ]
          },
          "metadata": {
            "tags": [],
            "needs_background": "light"
          }
        }
      ]
    },
    {
      "cell_type": "markdown",
      "metadata": {
        "id": "Z7sEnJZ4sDC3"
      },
      "source": [
        "### HumourNet + GloVe\r\n",
        "\r\n",
        "This falls under Approach 1 as it uses pre-trained GloVe representations. We wanted to see what difference in model performance using a pre-trained representation would give when applied to our HumourNet architecture. We felt the results were interesting to include, as they illustrate how pre-trained representations improve model performance - this is discussed further in our report."
      ]
    },
    {
      "cell_type": "code",
      "metadata": {
        "id": "fxQZQaHfsHfm",
        "colab": {
          "base_uri": "https://localhost:8080/"
        },
        "outputId": "fa9500a7-9662-4daa-b031-503a95521e83"
      },
      "source": [
        "if use_funlines:\r\n",
        "    train_df_concat = pd.concat([train_df, train_funlines_df, val_df], axis=0)\r\n",
        "else:\r\n",
        "    train_df_concat = pd.concat([train_df, val_df], axis=0)\r\n",
        "train_df_concat = train_df_concat.reset_index(drop=True)\r\n",
        "\r\n",
        "num_features = sum(features_map.values())\r\n",
        "\r\n",
        "preprocess(train_df_concat)\r\n",
        "preprocess(test_df)\r\n",
        "\r\n",
        "joint_vocab, joint_tokenized_corpus = create_vocab(pd.concat(\r\n",
        "    [train_df_concat['replaced_vocab'],\r\n",
        "     test_df['replaced_vocab'],\r\n",
        "     train_df_concat['edit_preprocessed'],\r\n",
        "     test_df['edit_preprocessed']\r\n",
        "    ]))\r\n",
        "\r\n",
        "\r\n",
        "# We create representations for our tokens\r\n",
        "wvecs = [np.zeros(100)] # word vectors\r\n",
        "word2idx = [('<unknown>', 0)] # word2index\r\n",
        "idx2word = [(0, '<unknown>')]\r\n",
        "\r\n",
        "with codecs.open('glove.6B.100d.txt', 'r','utf-8') as f:\r\n",
        "  index = 1\r\n",
        "  for line in f.readlines():\r\n",
        "    # Ignore the first line - first line typically contains vocab, dimensionality\r\n",
        "    if len(line.strip().split()) > 3:\r\n",
        "      word = line.strip().split()[0]\r\n",
        "      if word in joint_vocab:\r\n",
        "          (word, vec) = (word,\r\n",
        "                     list(map(float,line.strip().split()[1:])))\r\n",
        "          wvecs.append(vec)\r\n",
        "          word2idx.append((word, index))\r\n",
        "          idx2word.append((index, word))\r\n",
        "          index += 1\r\n",
        "\r\n",
        "wvecs = np.array(wvecs)\r\n",
        "word2idx = dict(word2idx)\r\n",
        "idx2word = dict(idx2word)\r\n",
        "\r\n",
        "extract_features(train_df_concat, features_map, joint_vocab, word2idx)\r\n",
        "extract_features(test_df, features_map, joint_vocab, word2idx)\r\n",
        "\r\n",
        "# Get word embeddings for edit word and replaced word\r\n",
        "INPUT_DIM = len(word2idx)\r\n",
        "EMBEDDING_DIM = 100\r\n",
        "BATCH_SIZE = 32\r\n",
        "\r\n",
        "# 'feature' is a list of lists, each containing embedding IDs for word tokens\r\n",
        "present_features = dict(filter(lambda item: item[1] and item[0] != 'cosine_edit_distance', features_map.items()))\r\n",
        "columns = list(present_features.keys()) + ['replaced_vocab_index', 'edit_vocab_index']\r\n",
        "train_and_dev = Task1Dataset(train_df_concat[columns].values.tolist(), train_df_concat['meanGrade'])\r\n",
        "test = Task1Dataset(test_df[columns].values.tolist(), test_df['meanGrade'])\r\n",
        "\r\n",
        "train_loader = torch.utils.data.DataLoader(train_and_dev, shuffle=True, batch_size=BATCH_SIZE, collate_fn=collate_fn_padd)\r\n",
        "dev_loader = torch.utils.data.DataLoader(test, batch_size=BATCH_SIZE, collate_fn=collate_fn_padd)\r\n",
        "\r\n",
        "model = HumourNetwork(\r\n",
        "    INPUT_DIM, \r\n",
        "    EMBEDDING_DIM, \r\n",
        "    num_features, \r\n",
        "    features_map['cosine_edit_distance'], \r\n",
        "    present_components['word_encoder'], \r\n",
        "    present_components['feature_encoder'],\r\n",
        "    device\r\n",
        "  )\r\n",
        "model.to(device)\r\n",
        "\r\n",
        "# We provide the model with our embeddings\r\n",
        "model.embedding.weight.data.copy_(torch.from_numpy(wvecs))\r\n",
        "\r\n",
        "loss_fn = nn.MSELoss()\r\n",
        "loss_fn = loss_fn.to(device)\r\n",
        "\r\n",
        "optimizer = torch.optim.Adam(model.parameters(), lr=0.0005)\r\n",
        "\r\n",
        "train(train_loader, dev_loader, model, 5)"
      ],
      "execution_count": null,
      "outputs": [
        {
          "output_type": "stream",
          "text": [
            "Training model.\n",
            "| Epoch: 01 | Train Loss: 0.5233 | Train MSE: 0.5233 | Train RMSE: 0.7234 |         Val. Loss: 0.3809 | Val. MSE: 0.3809 |  Val. RMSE: 0.6172 |\n",
            "| Epoch: 02 | Train Loss: 0.4034 | Train MSE: 0.4034 | Train RMSE: 0.6351 |         Val. Loss: 0.3167 | Val. MSE: 0.3167 |  Val. RMSE: 0.5628 |\n",
            "| Epoch: 03 | Train Loss: 0.3702 | Train MSE: 0.3702 | Train RMSE: 0.6084 |         Val. Loss: 0.3069 | Val. MSE: 0.3069 |  Val. RMSE: 0.5540 |\n",
            "| Epoch: 04 | Train Loss: 0.3496 | Train MSE: 0.3496 | Train RMSE: 0.5913 |         Val. Loss: 0.3041 | Val. MSE: 0.3041 |  Val. RMSE: 0.5515 |\n",
            "| Epoch: 05 | Train Loss: 0.3301 | Train MSE: 0.3301 | Train RMSE: 0.5746 |         Val. Loss: 0.3037 | Val. MSE: 0.3037 |  Val. RMSE: 0.5511 |\n"
          ],
          "name": "stdout"
        }
      ]
    },
    {
      "cell_type": "markdown",
      "metadata": {
        "id": "6XjxvtXEBx0b"
      },
      "source": [
        "### HumourNet + Byte Pair Encoding"
      ]
    },
    {
      "cell_type": "markdown",
      "metadata": {
        "id": "WspVBM7V7AuT"
      },
      "source": [
        "Creating vocab from corpus using byte pair encoding:"
      ]
    },
    {
      "cell_type": "code",
      "metadata": {
        "id": "MBljv0qRvzdl"
      },
      "source": [
        "def create_initial_vocab_bpe(data):\r\n",
        "  # Returns frequency of tokens in corpus\r\n",
        "  tokens = [\" \".join(word) + \" </w>\" for sentence in data for word in sentence.split()]\r\n",
        "  vocab = Counter(tokens)\r\n",
        "  return vocab\r\n",
        "\r\n",
        "\r\n",
        "def get_pair_counts(vocab):\r\n",
        "  pairs = defaultdict(int)\r\n",
        "  for word, freq in vocab.items():\r\n",
        "      symbols = word.split()\r\n",
        "      for i in range(len(symbols) - 1):\r\n",
        "          pairs[symbols[i], symbols[i + 1]] += freq\r\n",
        "  return pairs\r\n",
        "\r\n",
        "\r\n",
        "def update_vocab(pair, vocab):\r\n",
        "  new_vocab = {}\r\n",
        "  bigram = re.escape(' '.join(pair))\r\n",
        "  p = re.compile(r'(?<!\\S)' + bigram + r'(?!\\S)')\r\n",
        "  for word in vocab:\r\n",
        "      # Replace most frequent pair\r\n",
        "      w_out = p.sub(''.join(pair), word)\r\n",
        "      new_vocab[w_out] = vocab[word]\r\n",
        "  return new_vocab\r\n",
        "\r\n",
        "    \r\n",
        "def create_vocab_bpe(data):\r\n",
        "  vocab = create_initial_vocab_bpe(data)\r\n",
        "  num_merges = 50  # hyperparam\r\n",
        "  for i in range(num_merges):\r\n",
        "    pairs = get_pair_counts(vocab)\r\n",
        "    best = max(pairs, key=pairs.get)\r\n",
        "    vocab = update_vocab(best, vocab)\r\n",
        "\r\n",
        "  vocab_bpe = []\r\n",
        "  for word in vocab:\r\n",
        "    for token in word.split():\r\n",
        "      if token not in vocab_bpe:\r\n",
        "        vocab_bpe.append(token)\r\n",
        "\r\n",
        "  # <unk> is token for unknown \r\n",
        "  return ['<unk>'] + vocab_bpe\r\n",
        "\r\n",
        "\r\n",
        "def tokenize_with_vocab(data, vocab):\r\n",
        "  max_token_size = len(max(vocab, key=len))\r\n",
        "  tokenized_corpus = []\r\n",
        "  for sentence in data:\r\n",
        "    tokenized_sentence = []\r\n",
        "    sentence = \"\".join([word + \"</w>\" for word in sentence.split()])\r\n",
        "    curr_index = 0\r\n",
        "    while curr_index < len(sentence):\r\n",
        "      for i in range(max_token_size, 0, -1):\r\n",
        "        if curr_index + i > len(sentence):\r\n",
        "          continue\r\n",
        "        token = sentence[curr_index:curr_index + i]\r\n",
        "        if token in vocab:\r\n",
        "          tokenized_sentence.append(token)\r\n",
        "          curr_index += i\r\n",
        "          break\r\n",
        "        elif i == 1:\r\n",
        "          # Avoid infinite loop when cannot find next token\r\n",
        "          print(\"Tokeniser error\")\r\n",
        "          tokenized_sentence.append(\"<unk>\")\r\n",
        "          curr_index += i\r\n",
        "    tokenized_corpus.append(tokenized_sentence)\r\n",
        "  return tokenized_corpus"
      ],
      "execution_count": null,
      "outputs": []
    },
    {
      "cell_type": "markdown",
      "metadata": {
        "id": "PJUMckm6Z0zu"
      },
      "source": [
        "Modifying HumourNet model to take sequence of tokens instead of just replaced & edit word:"
      ]
    },
    {
      "cell_type": "code",
      "metadata": {
        "id": "lFAOpKSOZ0QH"
      },
      "source": [
        "# Approach 2: HumourNetwork \r\n",
        "\r\n",
        "class SentenceEncoderBPE(nn.Module):\r\n",
        "  def __init__(self, embedding_dim, hidden_dim, vocab_dize, batch_size, device, dropout=0.5):\r\n",
        "    super(SentenceEncoderBPE, self).__init__()\r\n",
        "    self.hidden_dim = hidden_dim\r\n",
        "    self.embedding_dim = embedding_dim\r\n",
        "    self.device = device\r\n",
        "    self.batch_size = batch_size\r\n",
        "\r\n",
        "    # The LSTM takes word embeddings as inputs, and outputs hidden states\r\n",
        "    # with dimensionality hidden_dim.\r\n",
        "    self.lstm = nn.LSTM(embedding_dim, hidden_dim, bidirectional=True)\r\n",
        "\r\n",
        "    # The linear layers that maps from hidden state space to tag space\r\n",
        "    self.hidden2label = nn.Sequential(\r\n",
        "        nn.Linear(hidden_dim * 2, 64),\r\n",
        "        nn.Dropout(dropout),\r\n",
        "        nn.ReLU(),\r\n",
        "        nn.Linear(64, 32),\r\n",
        "        nn.Dropout(dropout),\r\n",
        "        nn.ReLU(),\r\n",
        "        nn.Linear(32, 16),\r\n",
        "        nn.Dropout(dropout),\r\n",
        "        nn.Tanh(),\r\n",
        "    )\r\n",
        "    self.init_hidden(self.batch_size)\r\n",
        "\r\n",
        "\r\n",
        "  def init_hidden(self, batch_size):\r\n",
        "      # Before we've done anything, we dont have any hidden state.\r\n",
        "      # Refer to the Pytorch documentation to see exactly why they have this dimensionality.\r\n",
        "      # The axes semantics are (num_layers * num_directions, minibatch_size, hidden_dim)\r\n",
        "      self.hidden1 = torch.zeros(2, batch_size, self.hidden_dim).to(self.device), \\\r\n",
        "              torch.zeros(2, batch_size, self.hidden_dim).to(self.device)\r\n",
        "      self.hidden2 = torch.zeros(2, batch_size, self.hidden_dim).to(self.device), \\\r\n",
        "              torch.zeros(2, batch_size, self.hidden_dim).to(self.device)\r\n",
        "  \r\n",
        "\r\n",
        "  def forward(self, x1, x2):\r\n",
        "    embedded1 = x1.permute(1, 0, 2)\r\n",
        "    embedded2 = x2.permute(1, 0, 2)\r\n",
        "\r\n",
        "    lstm_out1, self.hidden1 = self.lstm(\r\n",
        "        embedded1.view(len(embedded1), x1.size(0), self.embedding_dim), self.hidden1)\r\n",
        "\r\n",
        "    lstm_out2, self.hidden2 = self.lstm(\r\n",
        "        embedded2.view(len(embedded2), x2.size(0), self.embedding_dim), self.hidden2)\r\n",
        "\r\n",
        "    out1 = self.hidden2label(lstm_out1[-1])\r\n",
        "    out2 = self.hidden2label(lstm_out2[-1])\r\n",
        "\r\n",
        "    # This distance function can be changed\r\n",
        "    dist = torch.abs(out1 - out2)\r\n",
        "\r\n",
        "    return dist\r\n",
        "\r\n",
        "\r\n",
        "class HumourNetworkBPE(nn.Module):\r\n",
        "  def __init__(\r\n",
        "      self, \r\n",
        "      num_embeddings, \r\n",
        "      embedding_dim, \r\n",
        "      num_features,\r\n",
        "      use_sentence_encoder,\r\n",
        "      use_feature_encoder,\r\n",
        "      batch_size,\r\n",
        "      device\r\n",
        "    ):\r\n",
        "    super(HumourNetworkBPE, self).__init__()\r\n",
        "    self.sentence_encoder = SentenceEncoderBPE(embedding_dim, 50, num_embeddings, batch_size, device)\r\n",
        "    self.feature_encoder = FeatureEncoder(num_features)\r\n",
        "    self.num_features = num_features\r\n",
        "    self.embedding = nn.Embedding(num_embeddings, embedding_dim)\r\n",
        "    self.use_sentence_encoder = use_sentence_encoder\r\n",
        "    self.use_feature_encoder = use_feature_encoder\r\n",
        "    n = 0\r\n",
        "    if use_sentence_encoder:\r\n",
        "      n += 16\r\n",
        "    if use_feature_encoder:\r\n",
        "      n += 8\r\n",
        "    self.linear = nn.Sequential(\r\n",
        "        nn.Linear(n, 32),\r\n",
        "        nn.ReLU(),\r\n",
        "        nn.Dropout(),\r\n",
        "        nn.Linear(32, 1),\r\n",
        "        nn.ReLU()\r\n",
        "    )\r\n",
        "\r\n",
        "  def init_hidden(self):\r\n",
        "    self.sentence_encoder.init_hidden(self.batch_size)\r\n",
        "\r\n",
        "  def forward(self, x, orig_headline, new_headline):\r\n",
        "    train_replaced = x[:,-2]\r\n",
        "    train_edit = x[:,-1]\r\n",
        "    \r\n",
        "    features = x[:,:self.num_features].type(torch.FloatTensor).to(device)\r\n",
        "\r\n",
        "    orig_headline = self.embedding(orig_headline)\r\n",
        "    new_headline = self.embedding(new_headline)\r\n",
        "\r\n",
        "    if self.use_sentence_encoder and self.use_feature_encoder:\r\n",
        "      y_sentence = self.sentence_encoder.forward(orig_headline, new_headline)\r\n",
        "      y_feature = self.feature_encoder.forward(features)\r\n",
        "      concat_outputs = torch.cat((y_sentence, y_feature), dim=1)\r\n",
        "      return self.linear(concat_outputs)\r\n",
        "    \r\n",
        "    if self.use_feature_encoder:\r\n",
        "      y = self.feature_encoder.forward(features)\r\n",
        "    \r\n",
        "    if self.use_sentence_encoder:\r\n",
        "      y = self.sentence_encoder.forward(orig_headline, new_headline)\r\n",
        "    return self.linear(y)"
      ],
      "execution_count": null,
      "outputs": []
    },
    {
      "cell_type": "markdown",
      "metadata": {
        "id": "Rz7XqeD0BSln"
      },
      "source": [
        "Create new collate_fn_padd_custom function to enable passing multiple inputs to network. Cannot be passed as single input because input tensor can't have different dimensions for features & sentence."
      ]
    },
    {
      "cell_type": "code",
      "metadata": {
        "id": "eIXaRY07otvA"
      },
      "source": [
        "def collate_fn_padd_custom(batch):\r\n",
        "    '''\r\n",
        "    We add padding to our minibatches and create tensors for our model\r\n",
        "    '''\r\n",
        "\r\n",
        "    batch_labels = [l for f, l in batch]\r\n",
        "    batch_features_const = [f[:-2] for f, l in batch]\r\n",
        "    batch_features_orig = [f[-2] for f, l in batch]\r\n",
        "    batch_features_edit = [f[-1] for f, l in batch]\r\n",
        "\r\n",
        "    batch_features_orig_len = [len(f) for f in batch_features_orig]\r\n",
        "    orig_tensor = torch.zeros((len(batch), max(batch_features_orig_len))).long()\r\n",
        "    batch_features_edit_len = [len(f) for f in batch_features_edit]\r\n",
        "    edit_tensor = torch.zeros((len(batch), max(batch_features_edit_len))).long()\r\n",
        "\r\n",
        "    for idx, (seq, seqlen) in enumerate(zip(batch_features_orig, batch_features_orig_len)):\r\n",
        "        orig_tensor[idx, :seqlen] = torch.LongTensor(seq)\r\n",
        "\r\n",
        "    for idx, (seq, seqlen) in enumerate(zip(batch_features_edit, batch_features_edit_len)):\r\n",
        "        edit_tensor[idx, :seqlen] = torch.LongTensor(seq)\r\n",
        "    \r\n",
        "    features_tensor = torch.LongTensor(batch_features_const)\r\n",
        "\r\n",
        "    batch_labels = torch.FloatTensor(batch_labels)\r\n",
        "\r\n",
        "    return features_tensor, orig_tensor, edit_tensor, batch_labels"
      ],
      "execution_count": null,
      "outputs": []
    },
    {
      "cell_type": "markdown",
      "metadata": {
        "id": "jPiDednKBbjJ"
      },
      "source": [
        "Training HumourNetwork + Byte Pair Encoding model"
      ]
    },
    {
      "cell_type": "code",
      "metadata": {
        "id": "9oHGwnMnpQSH"
      },
      "source": [
        "present_components = {\r\n",
        "    'sentence_encoder': True,\r\n",
        "    'feature_encoder': True\r\n",
        "}\r\n",
        "\r\n",
        "features_map = {\r\n",
        "    'trump': True, \r\n",
        "    'trump_hair': True, \r\n",
        "    'relative_edit_pos': True, \r\n",
        "    'headline_length': False,\r\n",
        "    'cosine_edit_distance': False,\r\n",
        "}\r\n",
        "\r\n",
        "use_funlines = True"
      ],
      "execution_count": null,
      "outputs": []
    },
    {
      "cell_type": "code",
      "metadata": {
        "id": "0iOIEn8d69Jf",
        "colab": {
          "base_uri": "https://localhost:8080/"
        },
        "outputId": "e674b6e9-f81b-4b50-d3f7-97dedbc89890"
      },
      "source": [
        "if use_funlines:\r\n",
        "    train_df_concat = pd.concat([train_df, train_funlines_df, val_df], axis=0)\r\n",
        "else:\r\n",
        "    train_df_concat = pd.concat([train_df, val_df], axis=0)\r\n",
        "train_df_concat = train_df_concat.reset_index(drop=True)\r\n",
        "\r\n",
        "preprocess(train_df_concat)\r\n",
        "preprocess(test_df)\r\n",
        "extract_features(train_df_concat, features_map)\r\n",
        "extract_features(test_df, features_map)\r\n",
        "\r\n",
        "# Get edited and original headlines\r\n",
        "train_corpus_edited = train_df_concat.apply(\r\n",
        "  lambda row: re.sub(r\"<.+/>\", row[\"edit\"], row[\"original\"]), axis=1\r\n",
        ")\r\n",
        "train_corpus_original = train_df_concat[\"original\"].str.replace(r\"<(.+)/>\", \"\\g<1>\")\r\n",
        "\r\n",
        "test_corpus_edited = test_df.apply(\r\n",
        "  lambda row: re.sub(r\"<.+/>\", row[\"edit\"], row[\"original\"]), axis=1\r\n",
        ")\r\n",
        "test_corpus_original = test_df[\"original\"].str.replace(r\"<(.+)/>\", \"\\g<1>\")\r\n",
        "\r\n",
        "print(\"Creating vocab\")\r\n",
        "joint_vocab_bpe = create_vocab_bpe(pd.concat([train_corpus_original, train_df_concat['edit'], test_corpus_original, test_df['edit']]))\r\n",
        "\r\n",
        "# Get embeddings for edited and original headlines\r\n",
        "training_tokenized_corpus_original = tokenize_with_vocab(train_corpus_original, joint_vocab_bpe)\r\n",
        "training_tokenized_corpus_edited = tokenize_with_vocab(train_corpus_edited, joint_vocab_bpe)\r\n",
        "test_tokenized_corpus_edited = tokenize_with_vocab(test_corpus_edited, joint_vocab_bpe)\r\n",
        "test_tokenized_corpus_original = tokenize_with_vocab(test_corpus_original, joint_vocab_bpe)\r\n",
        "\r\n",
        "# Convert headlines to vectors\r\n",
        "vectorized_seqs_train_orig = [[joint_vocab_bpe.index(tok) for tok in seq] for seq in training_tokenized_corpus_original]\r\n",
        "vectorized_seqs_train_new = [[joint_vocab_bpe.index(tok) for tok in seq] for seq in training_tokenized_corpus_edited]\r\n",
        "vectorized_seqs_test_orig = [[joint_vocab_bpe.index(tok) for tok in seq] for seq in test_tokenized_corpus_original]\r\n",
        "vectorized_seqs_test_new = [[joint_vocab_bpe.index(tok) for tok in seq] for seq in test_tokenized_corpus_edited]\r\n",
        "\r\n",
        "train_df_concat['orig_headline'] = vectorized_seqs_train_orig\r\n",
        "train_df_concat['new_headline'] = vectorized_seqs_train_new\r\n",
        "test_df['orig_headline'] = vectorized_seqs_test_orig\r\n",
        "test_df['new_headline'] = vectorized_seqs_test_new\r\n",
        "\r\n",
        "INPUT_DIM = len(joint_vocab_bpe)\r\n",
        "EMBEDDING_DIM = 100\r\n",
        "BATCH_SIZE = 32\r\n",
        "\r\n",
        "present_features = dict(filter(lambda item: item[1] and item[0] != 'cosine_edit_distance', features_map.items()))\r\n",
        "num_features = len(present_features)\r\n",
        "columns = list(present_features.keys()) + ['orig_headline', 'new_headline']\r\n",
        "\r\n",
        "train_and_dev = Task1Dataset(train_df_concat[columns].values.tolist(), train_df_concat['meanGrade'])\r\n",
        "test = Task1Dataset(test_df[columns].values.tolist(), test_df['meanGrade'])\r\n",
        "\r\n",
        "train_loader = torch.utils.data.DataLoader(train_and_dev, shuffle=True, batch_size=BATCH_SIZE, collate_fn=collate_fn_padd_custom)\r\n",
        "dev_loader = torch.utils.data.DataLoader(test, batch_size=BATCH_SIZE, collate_fn=collate_fn_padd_custom)\r\n",
        "model = HumourNetworkBPE(\r\n",
        "    INPUT_DIM, \r\n",
        "    EMBEDDING_DIM, \r\n",
        "    num_features, \r\n",
        "    present_components['sentence_encoder'], \r\n",
        "    present_components['feature_encoder'],\r\n",
        "    BATCH_SIZE,\r\n",
        "    device\r\n",
        "  )\r\n",
        "model.to(device)\r\n",
        "\r\n",
        "loss_fn = nn.MSELoss()\r\n",
        "loss_fn = loss_fn.to(device)\r\n",
        "\r\n",
        "optimizer = torch.optim.Adam(model.parameters(), lr=0.0004)\r\n",
        "train(train_loader, dev_loader, model, 10, True)"
      ],
      "execution_count": null,
      "outputs": [
        {
          "output_type": "stream",
          "text": [
            "Creating vocab\n",
            "Training model.\n",
            "| Epoch: 01 | Train Loss: 0.5373 | Train MSE: 0.5373 | Train RMSE: 0.7330 |         Val. Loss: 0.7892 | Val. MSE: 0.7892 |  Val. RMSE: 0.8884 |\n",
            "| Epoch: 02 | Train Loss: 0.4276 | Train MSE: 0.4276 | Train RMSE: 0.6539 |         Val. Loss: 0.6076 | Val. MSE: 0.6076 |  Val. RMSE: 0.7795 |\n",
            "| Epoch: 03 | Train Loss: 0.4101 | Train MSE: 0.4101 | Train RMSE: 0.6404 |         Val. Loss: 0.4854 | Val. MSE: 0.4854 |  Val. RMSE: 0.6967 |\n",
            "| Epoch: 04 | Train Loss: 0.3937 | Train MSE: 0.3937 | Train RMSE: 0.6274 |         Val. Loss: 0.4062 | Val. MSE: 0.4062 |  Val. RMSE: 0.6373 |\n",
            "| Epoch: 05 | Train Loss: 0.3823 | Train MSE: 0.3823 | Train RMSE: 0.6183 |         Val. Loss: 0.3568 | Val. MSE: 0.3568 |  Val. RMSE: 0.5973 |\n",
            "| Epoch: 06 | Train Loss: 0.3740 | Train MSE: 0.3740 | Train RMSE: 0.6116 |         Val. Loss: 0.3345 | Val. MSE: 0.3345 |  Val. RMSE: 0.5783 |\n",
            "| Epoch: 07 | Train Loss: 0.3690 | Train MSE: 0.3690 | Train RMSE: 0.6075 |         Val. Loss: 0.3280 | Val. MSE: 0.3280 |  Val. RMSE: 0.5727 |\n",
            "| Epoch: 08 | Train Loss: 0.3647 | Train MSE: 0.3647 | Train RMSE: 0.6039 |         Val. Loss: 0.3279 | Val. MSE: 0.3279 |  Val. RMSE: 0.5726 |\n",
            "| Epoch: 09 | Train Loss: 0.3635 | Train MSE: 0.3635 | Train RMSE: 0.6029 |         Val. Loss: 0.3292 | Val. MSE: 0.3292 |  Val. RMSE: 0.5737 |\n",
            "| Epoch: 10 | Train Loss: 0.3598 | Train MSE: 0.3598 | Train RMSE: 0.5998 |         Val. Loss: 0.3316 | Val. MSE: 0.3316 |  Val. RMSE: 0.5758 |\n"
          ],
          "name": "stdout"
        }
      ]
    },
    {
      "cell_type": "markdown",
      "metadata": {
        "id": "mEXjXZ5qz-kh"
      },
      "source": [
        "# Comparison of approaches"
      ]
    },
    {
      "cell_type": "code",
      "metadata": {
        "colab": {
          "base_uri": "https://localhost:8080/",
          "height": 354
        },
        "id": "Gvag-oKXQMdu",
        "outputId": "b5479203-b2b0-4442-f350-c32d53e28da3"
      },
      "source": [
        "df1 = pd.read_csv(PATH_TO_DATA + 'task-1-humournet.csv')\n",
        "df2 = pd.read_csv(PATH_TO_DATA + 'task-1-roberta.csv')\n",
        "test_df = pd.read_csv(PATH_TO_DATA + 'test.csv')\n",
        "\n",
        "bins = 16\n",
        "bin_edges, step = np.linspace(0, 3, bins, retstep=True)\n",
        "\n",
        "df_concat = pd.concat([df1, df2, test_df['meanGrade']], keys=['RoBERTa','HumourNet', 'Ground truth']).reset_index(level=0)\n",
        "df_melt = df_concat.melt(id_vars='level_0', var_name='var_id')\n",
        "df_melt = df_melt[df_melt.var_id != \"id\"]\n",
        "\n",
        "g = sns.displot(df_melt, kind='hist', x='value', hue='level_0',\n",
        "                element='step', bins=bin_edges, fill=False, height=4, aspect=1.3,\n",
        "                facet_kws=dict(sharex=False, sharey=False))\n",
        "\n",
        "# Additional formatting\n",
        "g.legend.set_bbox_to_anchor((0.75, 0.75))\n",
        "g.legend.set_title('')\n",
        "g.set(xlabel='humour grade')\n",
        "plt.suptitle('Comparing the Predictive Distributions on the Test Set', x=0.5, y=1.1, fontsize=14)\n",
        "plt.figure(dpi=200)\n",
        "plt.show()\n"
      ],
      "execution_count": null,
      "outputs": [
        {
          "output_type": "display_data",
          "data": {
            "image/png": "[encoded data removed]",
            "text/plain": [
              "<Figure size 474.9x288 with 1 Axes>"
            ]
          },
          "metadata": {
            "tags": [],
            "needs_background": "light"
          }
        },
        {
          "output_type": "display_data",
          "data": {
            "text/plain": [
              "<Figure size 1200x800 with 0 Axes>"
            ]
          },
          "metadata": {
            "tags": []
          }
        }
      ]
    },
    {
      "cell_type": "code",
      "metadata": {
        "colab": {
          "base_uri": "https://localhost:8080/",
          "height": 390
        },
        "id": "LwoMaPlIQA3q",
        "outputId": "aa5d55fe-45a8-4626-8f4e-764716beec99"
      },
      "source": [
        "labels = test_df['meanGrade'].to_numpy()\n",
        "preds1 = pd.read_csv(PATH_TO_DATA + 'task-1-roberta.csv')['pred'].to_numpy()\n",
        "preds2 = pd.read_csv(PATH_TO_DATA + 'task-1-humournet.csv')['pred'].to_numpy()\n",
        "\n",
        "sns.set(rc={\"figure.dpi\":100, 'savefig.dpi':100})\n",
        "sns.set_style(\"white\")\n",
        "\n",
        "def get_pred_true_plot(preds1, preds2, labels, title):\n",
        "    limits = [labels.min(), labels.max()]\n",
        "    fig, ax = plt.subplots()\n",
        "    fig.set_dpi(100)\n",
        "    ax.set_title(title)\n",
        "    ax.scatter(labels, preds1, marker='.', label='RoBERTa')\n",
        "    ax.scatter(labels, preds2, marker='.', label='HumourNet')\n",
        "\n",
        "    ax.plot(limits, limits, color=\"gray\", linestyle=\":\")\n",
        "    ax.set_xlabel('True Humour Grade')\n",
        "    ax.set_ylabel('Predicted Humour Grade')\n",
        "    sns.regplot(x=labels, y=preds1, ax=ax, scatter_kws={\"s\": 5})\n",
        "    sns.regplot(x=labels, y=preds2, ax=ax, scatter_kws={\"s\": 5})\n",
        "    plt.legend()\n",
        "    plt.show()\n",
        "\n",
        "get_pred_true_plot(preds1, preds2, labels, \"\")"
      ],
      "execution_count": null,
      "outputs": [
        {
          "output_type": "display_data",
          "data": {
            "image/png": "[encoded data removed]",
            "text/plain": [
              "<Figure size 600x400 with 1 Axes>"
            ]
          },
          "metadata": {
            "tags": []
          }
        }
      ]
    }
  ]
}